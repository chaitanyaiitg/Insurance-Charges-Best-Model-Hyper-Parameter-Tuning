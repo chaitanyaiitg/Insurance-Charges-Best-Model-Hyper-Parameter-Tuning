{
 "cells": [
  {
   "cell_type": "code",
   "execution_count": 157,
   "metadata": {},
   "outputs": [],
   "source": [
    "import pandas as pd\n",
    "import numpy as np\n",
    "import seaborn as sns\n",
    "import matplotlib.pyplot as plt\n",
    "%matplotlib inline\n",
    "import warnings\n",
    "warnings.filterwarnings('ignore')"
   ]
  },
  {
   "cell_type": "code",
   "execution_count": 158,
   "metadata": {},
   "outputs": [],
   "source": [
    "df=pd.read_csv('F:\\Data_Science\\Insurance Charges\\insurance.csv')"
   ]
  },
  {
   "cell_type": "code",
   "execution_count": 159,
   "metadata": {},
   "outputs": [
    {
     "data": {
      "text/html": [
       "<div>\n",
       "<style scoped>\n",
       "    .dataframe tbody tr th:only-of-type {\n",
       "        vertical-align: middle;\n",
       "    }\n",
       "\n",
       "    .dataframe tbody tr th {\n",
       "        vertical-align: top;\n",
       "    }\n",
       "\n",
       "    .dataframe thead th {\n",
       "        text-align: right;\n",
       "    }\n",
       "</style>\n",
       "<table border=\"1\" class=\"dataframe\">\n",
       "  <thead>\n",
       "    <tr style=\"text-align: right;\">\n",
       "      <th></th>\n",
       "      <th>age</th>\n",
       "      <th>sex</th>\n",
       "      <th>bmi</th>\n",
       "      <th>children</th>\n",
       "      <th>smoker</th>\n",
       "      <th>region</th>\n",
       "      <th>charges</th>\n",
       "    </tr>\n",
       "  </thead>\n",
       "  <tbody>\n",
       "    <tr>\n",
       "      <th>0</th>\n",
       "      <td>19</td>\n",
       "      <td>female</td>\n",
       "      <td>27.900</td>\n",
       "      <td>0</td>\n",
       "      <td>yes</td>\n",
       "      <td>southwest</td>\n",
       "      <td>16884.92400</td>\n",
       "    </tr>\n",
       "    <tr>\n",
       "      <th>1</th>\n",
       "      <td>18</td>\n",
       "      <td>male</td>\n",
       "      <td>33.770</td>\n",
       "      <td>1</td>\n",
       "      <td>no</td>\n",
       "      <td>southeast</td>\n",
       "      <td>1725.55230</td>\n",
       "    </tr>\n",
       "    <tr>\n",
       "      <th>2</th>\n",
       "      <td>28</td>\n",
       "      <td>male</td>\n",
       "      <td>33.000</td>\n",
       "      <td>3</td>\n",
       "      <td>no</td>\n",
       "      <td>southeast</td>\n",
       "      <td>4449.46200</td>\n",
       "    </tr>\n",
       "    <tr>\n",
       "      <th>3</th>\n",
       "      <td>33</td>\n",
       "      <td>male</td>\n",
       "      <td>22.705</td>\n",
       "      <td>0</td>\n",
       "      <td>no</td>\n",
       "      <td>northwest</td>\n",
       "      <td>21984.47061</td>\n",
       "    </tr>\n",
       "    <tr>\n",
       "      <th>4</th>\n",
       "      <td>32</td>\n",
       "      <td>male</td>\n",
       "      <td>28.880</td>\n",
       "      <td>0</td>\n",
       "      <td>no</td>\n",
       "      <td>northwest</td>\n",
       "      <td>3866.85520</td>\n",
       "    </tr>\n",
       "    <tr>\n",
       "      <th>...</th>\n",
       "      <td>...</td>\n",
       "      <td>...</td>\n",
       "      <td>...</td>\n",
       "      <td>...</td>\n",
       "      <td>...</td>\n",
       "      <td>...</td>\n",
       "      <td>...</td>\n",
       "    </tr>\n",
       "    <tr>\n",
       "      <th>1333</th>\n",
       "      <td>50</td>\n",
       "      <td>male</td>\n",
       "      <td>30.970</td>\n",
       "      <td>3</td>\n",
       "      <td>no</td>\n",
       "      <td>northwest</td>\n",
       "      <td>10600.54830</td>\n",
       "    </tr>\n",
       "    <tr>\n",
       "      <th>1334</th>\n",
       "      <td>18</td>\n",
       "      <td>female</td>\n",
       "      <td>31.920</td>\n",
       "      <td>0</td>\n",
       "      <td>no</td>\n",
       "      <td>northeast</td>\n",
       "      <td>2205.98080</td>\n",
       "    </tr>\n",
       "    <tr>\n",
       "      <th>1335</th>\n",
       "      <td>18</td>\n",
       "      <td>female</td>\n",
       "      <td>36.850</td>\n",
       "      <td>0</td>\n",
       "      <td>no</td>\n",
       "      <td>southeast</td>\n",
       "      <td>1629.83350</td>\n",
       "    </tr>\n",
       "    <tr>\n",
       "      <th>1336</th>\n",
       "      <td>21</td>\n",
       "      <td>female</td>\n",
       "      <td>25.800</td>\n",
       "      <td>0</td>\n",
       "      <td>no</td>\n",
       "      <td>southwest</td>\n",
       "      <td>2007.94500</td>\n",
       "    </tr>\n",
       "    <tr>\n",
       "      <th>1337</th>\n",
       "      <td>61</td>\n",
       "      <td>female</td>\n",
       "      <td>29.070</td>\n",
       "      <td>0</td>\n",
       "      <td>yes</td>\n",
       "      <td>northwest</td>\n",
       "      <td>29141.36030</td>\n",
       "    </tr>\n",
       "  </tbody>\n",
       "</table>\n",
       "<p>1338 rows × 7 columns</p>\n",
       "</div>"
      ],
      "text/plain": [
       "      age     sex     bmi  children smoker     region      charges\n",
       "0      19  female  27.900         0    yes  southwest  16884.92400\n",
       "1      18    male  33.770         1     no  southeast   1725.55230\n",
       "2      28    male  33.000         3     no  southeast   4449.46200\n",
       "3      33    male  22.705         0     no  northwest  21984.47061\n",
       "4      32    male  28.880         0     no  northwest   3866.85520\n",
       "...   ...     ...     ...       ...    ...        ...          ...\n",
       "1333   50    male  30.970         3     no  northwest  10600.54830\n",
       "1334   18  female  31.920         0     no  northeast   2205.98080\n",
       "1335   18  female  36.850         0     no  southeast   1629.83350\n",
       "1336   21  female  25.800         0     no  southwest   2007.94500\n",
       "1337   61  female  29.070         0    yes  northwest  29141.36030\n",
       "\n",
       "[1338 rows x 7 columns]"
      ]
     },
     "execution_count": 159,
     "metadata": {},
     "output_type": "execute_result"
    }
   ],
   "source": [
    "df"
   ]
  },
  {
   "cell_type": "code",
   "execution_count": 160,
   "metadata": {},
   "outputs": [
    {
     "data": {
      "text/plain": [
       "(1338, 7)"
      ]
     },
     "execution_count": 160,
     "metadata": {},
     "output_type": "execute_result"
    }
   ],
   "source": [
    "df.shape"
   ]
  },
  {
   "cell_type": "code",
   "execution_count": 161,
   "metadata": {},
   "outputs": [
    {
     "data": {
      "text/plain": [
       "Index(['age', 'sex', 'bmi', 'children', 'smoker', 'region', 'charges'], dtype='object')"
      ]
     },
     "execution_count": 161,
     "metadata": {},
     "output_type": "execute_result"
    }
   ],
   "source": [
    "df.columns"
   ]
  },
  {
   "cell_type": "code",
   "execution_count": 162,
   "metadata": {},
   "outputs": [
    {
     "data": {
      "text/plain": [
       "age           int64\n",
       "sex          object\n",
       "bmi         float64\n",
       "children      int64\n",
       "smoker       object\n",
       "region       object\n",
       "charges     float64\n",
       "dtype: object"
      ]
     },
     "execution_count": 162,
     "metadata": {},
     "output_type": "execute_result"
    }
   ],
   "source": [
    "df.dtypes"
   ]
  },
  {
   "cell_type": "code",
   "execution_count": 163,
   "metadata": {},
   "outputs": [
    {
     "data": {
      "text/plain": [
       "age         0\n",
       "sex         0\n",
       "bmi         0\n",
       "children    0\n",
       "smoker      0\n",
       "region      0\n",
       "charges     0\n",
       "dtype: int64"
      ]
     },
     "execution_count": 163,
     "metadata": {},
     "output_type": "execute_result"
    }
   ],
   "source": [
    "df.isnull().sum()"
   ]
  },
  {
   "cell_type": "code",
   "execution_count": 164,
   "metadata": {},
   "outputs": [
    {
     "data": {
      "text/plain": [
       "age           47\n",
       "sex            2\n",
       "bmi          548\n",
       "children       6\n",
       "smoker         2\n",
       "region         4\n",
       "charges     1337\n",
       "dtype: int64"
      ]
     },
     "execution_count": 164,
     "metadata": {},
     "output_type": "execute_result"
    }
   ],
   "source": [
    "df.nunique()"
   ]
  },
  {
   "cell_type": "code",
   "execution_count": 165,
   "metadata": {},
   "outputs": [
    {
     "name": "stdout",
     "output_type": "stream",
     "text": [
      "age         0.0\n",
      "sex         0.0\n",
      "bmi         0.0\n",
      "children    0.0\n",
      "smoker      0.0\n",
      "region      0.0\n",
      "charges     0.0\n",
      "dtype: float64\n"
     ]
    }
   ],
   "source": [
    "missing_percentage=((df.isnull().sum()*100)/df.shape[0])\n",
    "print(missing_percentage)"
   ]
  },
  {
   "cell_type": "code",
   "execution_count": 166,
   "metadata": {},
   "outputs": [
    {
     "data": {
      "text/html": [
       "<div>\n",
       "<style scoped>\n",
       "    .dataframe tbody tr th:only-of-type {\n",
       "        vertical-align: middle;\n",
       "    }\n",
       "\n",
       "    .dataframe tbody tr th {\n",
       "        vertical-align: top;\n",
       "    }\n",
       "\n",
       "    .dataframe thead th {\n",
       "        text-align: right;\n",
       "    }\n",
       "</style>\n",
       "<table border=\"1\" class=\"dataframe\">\n",
       "  <thead>\n",
       "    <tr style=\"text-align: right;\">\n",
       "      <th></th>\n",
       "      <th>age</th>\n",
       "      <th>bmi</th>\n",
       "      <th>children</th>\n",
       "      <th>charges</th>\n",
       "    </tr>\n",
       "  </thead>\n",
       "  <tbody>\n",
       "    <tr>\n",
       "      <th>count</th>\n",
       "      <td>1338.000000</td>\n",
       "      <td>1338.000000</td>\n",
       "      <td>1338.000000</td>\n",
       "      <td>1338.000000</td>\n",
       "    </tr>\n",
       "    <tr>\n",
       "      <th>mean</th>\n",
       "      <td>39.207025</td>\n",
       "      <td>30.663397</td>\n",
       "      <td>1.094918</td>\n",
       "      <td>13270.422265</td>\n",
       "    </tr>\n",
       "    <tr>\n",
       "      <th>std</th>\n",
       "      <td>14.049960</td>\n",
       "      <td>6.098187</td>\n",
       "      <td>1.205493</td>\n",
       "      <td>12110.011237</td>\n",
       "    </tr>\n",
       "    <tr>\n",
       "      <th>min</th>\n",
       "      <td>18.000000</td>\n",
       "      <td>15.960000</td>\n",
       "      <td>0.000000</td>\n",
       "      <td>1121.873900</td>\n",
       "    </tr>\n",
       "    <tr>\n",
       "      <th>25%</th>\n",
       "      <td>27.000000</td>\n",
       "      <td>26.296250</td>\n",
       "      <td>0.000000</td>\n",
       "      <td>4740.287150</td>\n",
       "    </tr>\n",
       "    <tr>\n",
       "      <th>50%</th>\n",
       "      <td>39.000000</td>\n",
       "      <td>30.400000</td>\n",
       "      <td>1.000000</td>\n",
       "      <td>9382.033000</td>\n",
       "    </tr>\n",
       "    <tr>\n",
       "      <th>75%</th>\n",
       "      <td>51.000000</td>\n",
       "      <td>34.693750</td>\n",
       "      <td>2.000000</td>\n",
       "      <td>16639.912515</td>\n",
       "    </tr>\n",
       "    <tr>\n",
       "      <th>max</th>\n",
       "      <td>64.000000</td>\n",
       "      <td>53.130000</td>\n",
       "      <td>5.000000</td>\n",
       "      <td>63770.428010</td>\n",
       "    </tr>\n",
       "  </tbody>\n",
       "</table>\n",
       "</div>"
      ],
      "text/plain": [
       "               age          bmi     children       charges\n",
       "count  1338.000000  1338.000000  1338.000000   1338.000000\n",
       "mean     39.207025    30.663397     1.094918  13270.422265\n",
       "std      14.049960     6.098187     1.205493  12110.011237\n",
       "min      18.000000    15.960000     0.000000   1121.873900\n",
       "25%      27.000000    26.296250     0.000000   4740.287150\n",
       "50%      39.000000    30.400000     1.000000   9382.033000\n",
       "75%      51.000000    34.693750     2.000000  16639.912515\n",
       "max      64.000000    53.130000     5.000000  63770.428010"
      ]
     },
     "execution_count": 166,
     "metadata": {},
     "output_type": "execute_result"
    }
   ],
   "source": [
    "df.describe()"
   ]
  },
  {
   "cell_type": "code",
   "execution_count": 167,
   "metadata": {
    "scrolled": true
   },
   "outputs": [
    {
     "data": {
      "text/plain": [
       "age         0\n",
       "sex         0\n",
       "bmi         0\n",
       "children    0\n",
       "smoker      0\n",
       "region      0\n",
       "charges     0\n",
       "dtype: int64"
      ]
     },
     "execution_count": 167,
     "metadata": {},
     "output_type": "execute_result"
    }
   ],
   "source": [
    "df.isnull().sum()"
   ]
  },
  {
   "cell_type": "code",
   "execution_count": 168,
   "metadata": {},
   "outputs": [
    {
     "data": {
      "text/html": [
       "<div>\n",
       "<style scoped>\n",
       "    .dataframe tbody tr th:only-of-type {\n",
       "        vertical-align: middle;\n",
       "    }\n",
       "\n",
       "    .dataframe tbody tr th {\n",
       "        vertical-align: top;\n",
       "    }\n",
       "\n",
       "    .dataframe thead th {\n",
       "        text-align: right;\n",
       "    }\n",
       "</style>\n",
       "<table border=\"1\" class=\"dataframe\">\n",
       "  <thead>\n",
       "    <tr style=\"text-align: right;\">\n",
       "      <th></th>\n",
       "    </tr>\n",
       "  </thead>\n",
       "  <tbody>\n",
       "    <tr>\n",
       "      <th>0</th>\n",
       "    </tr>\n",
       "    <tr>\n",
       "      <th>1</th>\n",
       "    </tr>\n",
       "    <tr>\n",
       "      <th>2</th>\n",
       "    </tr>\n",
       "    <tr>\n",
       "      <th>3</th>\n",
       "    </tr>\n",
       "    <tr>\n",
       "      <th>4</th>\n",
       "    </tr>\n",
       "    <tr>\n",
       "      <th>...</th>\n",
       "    </tr>\n",
       "    <tr>\n",
       "      <th>1333</th>\n",
       "    </tr>\n",
       "    <tr>\n",
       "      <th>1334</th>\n",
       "    </tr>\n",
       "    <tr>\n",
       "      <th>1335</th>\n",
       "    </tr>\n",
       "    <tr>\n",
       "      <th>1336</th>\n",
       "    </tr>\n",
       "    <tr>\n",
       "      <th>1337</th>\n",
       "    </tr>\n",
       "  </tbody>\n",
       "</table>\n",
       "<p>1338 rows × 0 columns</p>\n",
       "</div>"
      ],
      "text/plain": [
       "Empty DataFrame\n",
       "Columns: []\n",
       "Index: [0, 1, 2, 3, 4, 5, 6, 7, 8, 9, 10, 11, 12, 13, 14, 15, 16, 17, 18, 19, 20, 21, 22, 23, 24, 25, 26, 27, 28, 29, 30, 31, 32, 33, 34, 35, 36, 37, 38, 39, 40, 41, 42, 43, 44, 45, 46, 47, 48, 49, 50, 51, 52, 53, 54, 55, 56, 57, 58, 59, 60, 61, 62, 63, 64, 65, 66, 67, 68, 69, 70, 71, 72, 73, 74, 75, 76, 77, 78, 79, 80, 81, 82, 83, 84, 85, 86, 87, 88, 89, 90, 91, 92, 93, 94, 95, 96, 97, 98, 99, ...]\n",
       "\n",
       "[1338 rows x 0 columns]"
      ]
     },
     "execution_count": 168,
     "metadata": {},
     "output_type": "execute_result"
    }
   ],
   "source": [
    "df.loc[:,df.isnull().any()]"
   ]
  },
  {
   "cell_type": "code",
   "execution_count": 169,
   "metadata": {
    "scrolled": false
   },
   "outputs": [
    {
     "data": {
      "text/plain": [
       "<matplotlib.axes._subplots.AxesSubplot at 0x2623e73bd90>"
      ]
     },
     "execution_count": 169,
     "metadata": {},
     "output_type": "execute_result"
    },
    {
     "data": {
      "image/png": "[encoded data removed]",
      "text/plain": [
       "<Figure size 432x288 with 2 Axes>"
      ]
     },
     "metadata": {
      "needs_background": "light"
     },
     "output_type": "display_data"
    }
   ],
   "source": [
    "sns.heatmap(df.isnull())"
   ]
  },
  {
   "cell_type": "code",
   "execution_count": 170,
   "metadata": {},
   "outputs": [
    {
     "data": {
      "text/plain": [
       "Index(['age', 'sex', 'bmi', 'children', 'smoker', 'region', 'charges'], dtype='object')"
      ]
     },
     "execution_count": 170,
     "metadata": {},
     "output_type": "execute_result"
    }
   ],
   "source": [
    "df.columns"
   ]
  },
  {
   "cell_type": "code",
   "execution_count": 171,
   "metadata": {
    "scrolled": true
   },
   "outputs": [
    {
     "data": {
      "text/plain": [
       "<matplotlib.axes._subplots.AxesSubplot at 0x2623e80c490>"
      ]
     },
     "execution_count": 171,
     "metadata": {},
     "output_type": "execute_result"
    },
    {
     "data": {
      "image/png": "[encoded data removed]",
      "text/plain": [
       "<Figure size 432x288 with 1 Axes>"
      ]
     },
     "metadata": {
      "needs_background": "light"
     },
     "output_type": "display_data"
    }
   ],
   "source": [
    "sns.distplot(df['charges'])"
   ]
  },
  {
   "cell_type": "code",
   "execution_count": 172,
   "metadata": {},
   "outputs": [
    {
     "data": {
      "text/plain": [
       "(array([287., 249., 205., 193.,  71.,  58.,  46.,  40.,  25.,  10.,  25.,\n",
       "         34.,  30.,  27.,  22.,  10.,   1.,   1.,   2.,   2.]),\n",
       " array([ 1121.8739   ,  4254.3016055,  7386.729311 , 10519.1570165,\n",
       "        13651.584722 , 16784.0124275, 19916.440133 , 23048.8678385,\n",
       "        26181.295544 , 29313.7232495, 32446.150955 , 35578.5786605,\n",
       "        38711.006366 , 41843.4340715, 44975.861777 , 48108.2894825,\n",
       "        51240.717188 , 54373.1448935, 57505.572599 , 60638.0003045,\n",
       "        63770.42801  ]),\n",
       " <a list of 20 Patch objects>)"
      ]
     },
     "execution_count": 172,
     "metadata": {},
     "output_type": "execute_result"
    },
    {
     "data": {
      "image/png": "[encoded data removed]",
      "text/plain": [
       "<Figure size 432x288 with 1 Axes>"
      ]
     },
     "metadata": {
      "needs_background": "light"
     },
     "output_type": "display_data"
    }
   ],
   "source": [
    "plt.hist(df['charges'], bins=20)"
   ]
  },
  {
   "cell_type": "code",
   "execution_count": 173,
   "metadata": {
    "scrolled": true
   },
   "outputs": [
    {
     "data": {
      "text/plain": [
       "<matplotlib.axes._subplots.AxesSubplot at 0x2623e93e250>"
      ]
     },
     "execution_count": 173,
     "metadata": {},
     "output_type": "execute_result"
    },
    {
     "data": {
      "image/png": "[encoded data removed]",
      "text/plain": [
       "<Figure size 432x288 with 1 Axes>"
      ]
     },
     "metadata": {
      "needs_background": "light"
     },
     "output_type": "display_data"
    }
   ],
   "source": [
    "sns.boxplot(df['charges'])"
   ]
  },
  {
   "cell_type": "code",
   "execution_count": 174,
   "metadata": {
    "scrolled": true
   },
   "outputs": [
    {
     "data": {
      "text/plain": [
       "age           int64\n",
       "sex          object\n",
       "bmi         float64\n",
       "children      int64\n",
       "smoker       object\n",
       "region       object\n",
       "charges     float64\n",
       "dtype: object"
      ]
     },
     "execution_count": 174,
     "metadata": {},
     "output_type": "execute_result"
    }
   ],
   "source": [
    "df.dtypes"
   ]
  },
  {
   "cell_type": "code",
   "execution_count": 175,
   "metadata": {},
   "outputs": [
    {
     "data": {
      "text/plain": [
       "Index(['age', 'sex', 'bmi', 'children', 'smoker', 'region', 'charges'], dtype='object')"
      ]
     },
     "execution_count": 175,
     "metadata": {},
     "output_type": "execute_result"
    }
   ],
   "source": [
    "df.columns"
   ]
  },
  {
   "cell_type": "code",
   "execution_count": 176,
   "metadata": {
    "scrolled": false
   },
   "outputs": [
    {
     "data": {
      "text/plain": [
       "<seaborn.axisgrid.FacetGrid at 0x2623e980ee0>"
      ]
     },
     "execution_count": 176,
     "metadata": {},
     "output_type": "execute_result"
    },
    {
     "data": {
      "image/png": "[encoded data removed]",
      "text/plain": [
       "<Figure size 413.25x360 with 1 Axes>"
      ]
     },
     "metadata": {
      "needs_background": "light"
     },
     "output_type": "display_data"
    }
   ],
   "source": [
    "sns.lmplot(x='bmi', y='age', data=df, hue='smoker')\n"
   ]
  },
  {
   "cell_type": "code",
   "execution_count": 177,
   "metadata": {
    "scrolled": true
   },
   "outputs": [
    {
     "data": {
      "text/plain": [
       "<matplotlib.axes._subplots.AxesSubplot at 0x2623e8f7ca0>"
      ]
     },
     "execution_count": 177,
     "metadata": {},
     "output_type": "execute_result"
    },
    {
     "data": {
      "image/png": "[encoded data removed]",
      "text/plain": [
       "<Figure size 432x288 with 1 Axes>"
      ]
     },
     "metadata": {
      "needs_background": "light"
     },
     "output_type": "display_data"
    }
   ],
   "source": [
    "sns.barplot(x='region', y='charges', data=df)\n"
   ]
  },
  {
   "cell_type": "code",
   "execution_count": 178,
   "metadata": {},
   "outputs": [
    {
     "data": {
      "text/plain": [
       "<matplotlib.axes._subplots.AxesSubplot at 0x2623ea49b80>"
      ]
     },
     "execution_count": 178,
     "metadata": {},
     "output_type": "execute_result"
    },
    {
     "data": {
      "image/png": "[encoded data removed]",
      "text/plain": [
       "<Figure size 432x288 with 1 Axes>"
      ]
     },
     "metadata": {
      "needs_background": "light"
     },
     "output_type": "display_data"
    }
   ],
   "source": [
    "sns.barplot(x='region', y='charges', data=df,hue='children')\n"
   ]
  },
  {
   "cell_type": "code",
   "execution_count": 179,
   "metadata": {},
   "outputs": [
    {
     "data": {
      "text/plain": [
       "<matplotlib.axes._subplots.AxesSubplot at 0x2623eb3a6a0>"
      ]
     },
     "execution_count": 179,
     "metadata": {},
     "output_type": "execute_result"
    },
    {
     "data": {
      "image/png": "[encoded data removed]",
      "text/plain": [
       "<Figure size 432x288 with 1 Axes>"
      ]
     },
     "metadata": {
      "needs_background": "light"
     },
     "output_type": "display_data"
    }
   ],
   "source": [
    "sns.violinplot(x='region', y='charges', data=df,hue='smoker')\n"
   ]
  },
  {
   "cell_type": "code",
   "execution_count": 180,
   "metadata": {},
   "outputs": [
    {
     "data": {
      "text/plain": [
       "count     1338.000000\n",
       "mean     13270.422265\n",
       "std      12110.011237\n",
       "min       1121.873900\n",
       "25%       4740.287150\n",
       "50%       9382.033000\n",
       "75%      16639.912515\n",
       "max      63770.428010\n",
       "Name: charges, dtype: float64"
      ]
     },
     "execution_count": 180,
     "metadata": {},
     "output_type": "execute_result"
    }
   ],
   "source": [
    "df['charges'].describe()"
   ]
  },
  {
   "cell_type": "code",
   "execution_count": 72,
   "metadata": {},
   "outputs": [],
   "source": [
    "df['Z-Score']=(df['charges']-df['charges'].mean())/df['charges'].std()"
   ]
  },
  {
   "cell_type": "code",
   "execution_count": 73,
   "metadata": {},
   "outputs": [
    {
     "data": {
      "text/html": [
       "<div>\n",
       "<style scoped>\n",
       "    .dataframe tbody tr th:only-of-type {\n",
       "        vertical-align: middle;\n",
       "    }\n",
       "\n",
       "    .dataframe tbody tr th {\n",
       "        vertical-align: top;\n",
       "    }\n",
       "\n",
       "    .dataframe thead th {\n",
       "        text-align: right;\n",
       "    }\n",
       "</style>\n",
       "<table border=\"1\" class=\"dataframe\">\n",
       "  <thead>\n",
       "    <tr style=\"text-align: right;\">\n",
       "      <th></th>\n",
       "      <th>age</th>\n",
       "      <th>sex</th>\n",
       "      <th>bmi</th>\n",
       "      <th>children</th>\n",
       "      <th>smoker</th>\n",
       "      <th>region</th>\n",
       "      <th>charges</th>\n",
       "      <th>Z-Score</th>\n",
       "    </tr>\n",
       "  </thead>\n",
       "  <tbody>\n",
       "    <tr>\n",
       "      <th>0</th>\n",
       "      <td>19</td>\n",
       "      <td>female</td>\n",
       "      <td>27.900</td>\n",
       "      <td>0</td>\n",
       "      <td>yes</td>\n",
       "      <td>southwest</td>\n",
       "      <td>16884.92400</td>\n",
       "      <td>0.298472</td>\n",
       "    </tr>\n",
       "    <tr>\n",
       "      <th>1</th>\n",
       "      <td>18</td>\n",
       "      <td>male</td>\n",
       "      <td>33.770</td>\n",
       "      <td>1</td>\n",
       "      <td>no</td>\n",
       "      <td>southeast</td>\n",
       "      <td>1725.55230</td>\n",
       "      <td>-0.953333</td>\n",
       "    </tr>\n",
       "    <tr>\n",
       "      <th>2</th>\n",
       "      <td>28</td>\n",
       "      <td>male</td>\n",
       "      <td>33.000</td>\n",
       "      <td>3</td>\n",
       "      <td>no</td>\n",
       "      <td>southeast</td>\n",
       "      <td>4449.46200</td>\n",
       "      <td>-0.728402</td>\n",
       "    </tr>\n",
       "    <tr>\n",
       "      <th>3</th>\n",
       "      <td>33</td>\n",
       "      <td>male</td>\n",
       "      <td>22.705</td>\n",
       "      <td>0</td>\n",
       "      <td>no</td>\n",
       "      <td>northwest</td>\n",
       "      <td>21984.47061</td>\n",
       "      <td>0.719574</td>\n",
       "    </tr>\n",
       "    <tr>\n",
       "      <th>4</th>\n",
       "      <td>32</td>\n",
       "      <td>male</td>\n",
       "      <td>28.880</td>\n",
       "      <td>0</td>\n",
       "      <td>no</td>\n",
       "      <td>northwest</td>\n",
       "      <td>3866.85520</td>\n",
       "      <td>-0.776512</td>\n",
       "    </tr>\n",
       "    <tr>\n",
       "      <th>...</th>\n",
       "      <td>...</td>\n",
       "      <td>...</td>\n",
       "      <td>...</td>\n",
       "      <td>...</td>\n",
       "      <td>...</td>\n",
       "      <td>...</td>\n",
       "      <td>...</td>\n",
       "      <td>...</td>\n",
       "    </tr>\n",
       "    <tr>\n",
       "      <th>1333</th>\n",
       "      <td>50</td>\n",
       "      <td>male</td>\n",
       "      <td>30.970</td>\n",
       "      <td>3</td>\n",
       "      <td>no</td>\n",
       "      <td>northwest</td>\n",
       "      <td>10600.54830</td>\n",
       "      <td>-0.220468</td>\n",
       "    </tr>\n",
       "    <tr>\n",
       "      <th>1334</th>\n",
       "      <td>18</td>\n",
       "      <td>female</td>\n",
       "      <td>31.920</td>\n",
       "      <td>0</td>\n",
       "      <td>no</td>\n",
       "      <td>northeast</td>\n",
       "      <td>2205.98080</td>\n",
       "      <td>-0.913661</td>\n",
       "    </tr>\n",
       "    <tr>\n",
       "      <th>1335</th>\n",
       "      <td>18</td>\n",
       "      <td>female</td>\n",
       "      <td>36.850</td>\n",
       "      <td>0</td>\n",
       "      <td>no</td>\n",
       "      <td>southeast</td>\n",
       "      <td>1629.83350</td>\n",
       "      <td>-0.961237</td>\n",
       "    </tr>\n",
       "    <tr>\n",
       "      <th>1336</th>\n",
       "      <td>21</td>\n",
       "      <td>female</td>\n",
       "      <td>25.800</td>\n",
       "      <td>0</td>\n",
       "      <td>no</td>\n",
       "      <td>southwest</td>\n",
       "      <td>2007.94500</td>\n",
       "      <td>-0.930014</td>\n",
       "    </tr>\n",
       "    <tr>\n",
       "      <th>1337</th>\n",
       "      <td>61</td>\n",
       "      <td>female</td>\n",
       "      <td>29.070</td>\n",
       "      <td>0</td>\n",
       "      <td>yes</td>\n",
       "      <td>northwest</td>\n",
       "      <td>29141.36030</td>\n",
       "      <td>1.310563</td>\n",
       "    </tr>\n",
       "  </tbody>\n",
       "</table>\n",
       "<p>1338 rows × 8 columns</p>\n",
       "</div>"
      ],
      "text/plain": [
       "      age     sex     bmi  children smoker     region      charges   Z-Score\n",
       "0      19  female  27.900         0    yes  southwest  16884.92400  0.298472\n",
       "1      18    male  33.770         1     no  southeast   1725.55230 -0.953333\n",
       "2      28    male  33.000         3     no  southeast   4449.46200 -0.728402\n",
       "3      33    male  22.705         0     no  northwest  21984.47061  0.719574\n",
       "4      32    male  28.880         0     no  northwest   3866.85520 -0.776512\n",
       "...   ...     ...     ...       ...    ...        ...          ...       ...\n",
       "1333   50    male  30.970         3     no  northwest  10600.54830 -0.220468\n",
       "1334   18  female  31.920         0     no  northeast   2205.98080 -0.913661\n",
       "1335   18  female  36.850         0     no  southeast   1629.83350 -0.961237\n",
       "1336   21  female  25.800         0     no  southwest   2007.94500 -0.930014\n",
       "1337   61  female  29.070         0    yes  northwest  29141.36030  1.310563\n",
       "\n",
       "[1338 rows x 8 columns]"
      ]
     },
     "execution_count": 73,
     "metadata": {},
     "output_type": "execute_result"
    }
   ],
   "source": [
    "df"
   ]
  },
  {
   "cell_type": "code",
   "execution_count": 81,
   "metadata": {
    "scrolled": true
   },
   "outputs": [
    {
     "data": {
      "text/html": [
       "<div>\n",
       "<style scoped>\n",
       "    .dataframe tbody tr th:only-of-type {\n",
       "        vertical-align: middle;\n",
       "    }\n",
       "\n",
       "    .dataframe tbody tr th {\n",
       "        vertical-align: top;\n",
       "    }\n",
       "\n",
       "    .dataframe thead th {\n",
       "        text-align: right;\n",
       "    }\n",
       "</style>\n",
       "<table border=\"1\" class=\"dataframe\">\n",
       "  <thead>\n",
       "    <tr style=\"text-align: right;\">\n",
       "      <th></th>\n",
       "      <th>age</th>\n",
       "      <th>sex</th>\n",
       "      <th>bmi</th>\n",
       "      <th>children</th>\n",
       "      <th>smoker</th>\n",
       "      <th>region</th>\n",
       "      <th>charges</th>\n",
       "      <th>Z-Score</th>\n",
       "    </tr>\n",
       "  </thead>\n",
       "  <tbody>\n",
       "    <tr>\n",
       "      <th>0</th>\n",
       "      <td>19</td>\n",
       "      <td>0</td>\n",
       "      <td>27.900</td>\n",
       "      <td>0</td>\n",
       "      <td>1</td>\n",
       "      <td>3</td>\n",
       "      <td>16884.92400</td>\n",
       "      <td>0.298472</td>\n",
       "    </tr>\n",
       "    <tr>\n",
       "      <th>1</th>\n",
       "      <td>18</td>\n",
       "      <td>1</td>\n",
       "      <td>33.770</td>\n",
       "      <td>1</td>\n",
       "      <td>0</td>\n",
       "      <td>2</td>\n",
       "      <td>1725.55230</td>\n",
       "      <td>-0.953333</td>\n",
       "    </tr>\n",
       "    <tr>\n",
       "      <th>2</th>\n",
       "      <td>28</td>\n",
       "      <td>1</td>\n",
       "      <td>33.000</td>\n",
       "      <td>3</td>\n",
       "      <td>0</td>\n",
       "      <td>2</td>\n",
       "      <td>4449.46200</td>\n",
       "      <td>-0.728402</td>\n",
       "    </tr>\n",
       "    <tr>\n",
       "      <th>3</th>\n",
       "      <td>33</td>\n",
       "      <td>1</td>\n",
       "      <td>22.705</td>\n",
       "      <td>0</td>\n",
       "      <td>0</td>\n",
       "      <td>1</td>\n",
       "      <td>21984.47061</td>\n",
       "      <td>0.719574</td>\n",
       "    </tr>\n",
       "    <tr>\n",
       "      <th>4</th>\n",
       "      <td>32</td>\n",
       "      <td>1</td>\n",
       "      <td>28.880</td>\n",
       "      <td>0</td>\n",
       "      <td>0</td>\n",
       "      <td>1</td>\n",
       "      <td>3866.85520</td>\n",
       "      <td>-0.776512</td>\n",
       "    </tr>\n",
       "    <tr>\n",
       "      <th>...</th>\n",
       "      <td>...</td>\n",
       "      <td>...</td>\n",
       "      <td>...</td>\n",
       "      <td>...</td>\n",
       "      <td>...</td>\n",
       "      <td>...</td>\n",
       "      <td>...</td>\n",
       "      <td>...</td>\n",
       "    </tr>\n",
       "    <tr>\n",
       "      <th>1333</th>\n",
       "      <td>50</td>\n",
       "      <td>1</td>\n",
       "      <td>30.970</td>\n",
       "      <td>3</td>\n",
       "      <td>0</td>\n",
       "      <td>1</td>\n",
       "      <td>10600.54830</td>\n",
       "      <td>-0.220468</td>\n",
       "    </tr>\n",
       "    <tr>\n",
       "      <th>1334</th>\n",
       "      <td>18</td>\n",
       "      <td>0</td>\n",
       "      <td>31.920</td>\n",
       "      <td>0</td>\n",
       "      <td>0</td>\n",
       "      <td>0</td>\n",
       "      <td>2205.98080</td>\n",
       "      <td>-0.913661</td>\n",
       "    </tr>\n",
       "    <tr>\n",
       "      <th>1335</th>\n",
       "      <td>18</td>\n",
       "      <td>0</td>\n",
       "      <td>36.850</td>\n",
       "      <td>0</td>\n",
       "      <td>0</td>\n",
       "      <td>2</td>\n",
       "      <td>1629.83350</td>\n",
       "      <td>-0.961237</td>\n",
       "    </tr>\n",
       "    <tr>\n",
       "      <th>1336</th>\n",
       "      <td>21</td>\n",
       "      <td>0</td>\n",
       "      <td>25.800</td>\n",
       "      <td>0</td>\n",
       "      <td>0</td>\n",
       "      <td>3</td>\n",
       "      <td>2007.94500</td>\n",
       "      <td>-0.930014</td>\n",
       "    </tr>\n",
       "    <tr>\n",
       "      <th>1337</th>\n",
       "      <td>61</td>\n",
       "      <td>0</td>\n",
       "      <td>29.070</td>\n",
       "      <td>0</td>\n",
       "      <td>1</td>\n",
       "      <td>1</td>\n",
       "      <td>29141.36030</td>\n",
       "      <td>1.310563</td>\n",
       "    </tr>\n",
       "  </tbody>\n",
       "</table>\n",
       "<p>1331 rows × 8 columns</p>\n",
       "</div>"
      ],
      "text/plain": [
       "      age  sex     bmi  children  smoker  region      charges   Z-Score\n",
       "0      19    0  27.900         0       1       3  16884.92400  0.298472\n",
       "1      18    1  33.770         1       0       2   1725.55230 -0.953333\n",
       "2      28    1  33.000         3       0       2   4449.46200 -0.728402\n",
       "3      33    1  22.705         0       0       1  21984.47061  0.719574\n",
       "4      32    1  28.880         0       0       1   3866.85520 -0.776512\n",
       "...   ...  ...     ...       ...     ...     ...          ...       ...\n",
       "1333   50    1  30.970         3       0       1  10600.54830 -0.220468\n",
       "1334   18    0  31.920         0       0       0   2205.98080 -0.913661\n",
       "1335   18    0  36.850         0       0       2   1629.83350 -0.961237\n",
       "1336   21    0  25.800         0       0       3   2007.94500 -0.930014\n",
       "1337   61    0  29.070         0       1       1  29141.36030  1.310563\n",
       "\n",
       "[1331 rows x 8 columns]"
      ]
     },
     "execution_count": 81,
     "metadata": {},
     "output_type": "execute_result"
    }
   ],
   "source": [
    "df=df[(df['Z-Score']>-3) & (df['Z-Score']<3)]\n",
    "df"
   ]
  },
  {
   "cell_type": "code",
   "execution_count": 82,
   "metadata": {
    "scrolled": true
   },
   "outputs": [
    {
     "data": {
      "text/plain": [
       "<matplotlib.axes._subplots.AxesSubplot at 0x26234a65bb0>"
      ]
     },
     "execution_count": 82,
     "metadata": {},
     "output_type": "execute_result"
    },
    {
     "data": {
      "image/png": "[encoded data removed]",
      "text/plain": [
       "<Figure size 432x288 with 1 Axes>"
      ]
     },
     "metadata": {
      "needs_background": "light"
     },
     "output_type": "display_data"
    }
   ],
   "source": [
    "sns.boxplot(df['charges'])"
   ]
  },
  {
   "cell_type": "code",
   "execution_count": 83,
   "metadata": {
    "scrolled": false
   },
   "outputs": [
    {
     "data": {
      "text/plain": [
       "count     1331.000000\n",
       "mean     13036.775677\n",
       "std      11699.360324\n",
       "min       1121.873900\n",
       "25%       4719.630300\n",
       "50%       9301.893550\n",
       "75%      16359.170275\n",
       "max      49577.662400\n",
       "Name: charges, dtype: float64"
      ]
     },
     "execution_count": 83,
     "metadata": {},
     "output_type": "execute_result"
    }
   ],
   "source": [
    "df['charges'].describe()"
   ]
  },
  {
   "cell_type": "code",
   "execution_count": 84,
   "metadata": {},
   "outputs": [
    {
     "data": {
      "text/plain": [
       "Index(['age', 'sex', 'bmi', 'children', 'smoker', 'region', 'charges',\n",
       "       'Z-Score'],\n",
       "      dtype='object')"
      ]
     },
     "execution_count": 84,
     "metadata": {},
     "output_type": "execute_result"
    }
   ],
   "source": [
    "df.columns"
   ]
  },
  {
   "cell_type": "code",
   "execution_count": 85,
   "metadata": {},
   "outputs": [],
   "source": [
    "from sklearn.preprocessing import LabelEncoder\n",
    "\n",
    "# creating an encoder\n",
    "encoder= LabelEncoder()\n",
    "df['sex'] = encoder.fit_transform(df['sex'])\n",
    "df['smoker'] = encoder.fit_transform(df['smoker'])\n",
    "df['region'] = encoder.fit_transform(df['region'])"
   ]
  },
  {
   "cell_type": "code",
   "execution_count": 86,
   "metadata": {},
   "outputs": [
    {
     "data": {
      "text/plain": [
       "<matplotlib.axes._subplots.AxesSubplot at 0x2623335bc10>"
      ]
     },
     "execution_count": 86,
     "metadata": {},
     "output_type": "execute_result"
    },
    {
     "data": {
      "image/png": "[encoded data removed]",
      "text/plain": [
       "<Figure size 720x720 with 2 Axes>"
      ]
     },
     "metadata": {
      "needs_background": "light"
     },
     "output_type": "display_data"
    }
   ],
   "source": [
    "plt.figure(figsize=(10,10))\n",
    "sns.heatmap(df.drop('Z-Score', axis=1).corr(), annot=True,cmap='RdYlGn')"
   ]
  },
  {
   "cell_type": "code",
   "execution_count": 87,
   "metadata": {},
   "outputs": [],
   "source": [
    "X=df.drop(['charges', 'Z-Score'],axis=1)"
   ]
  },
  {
   "cell_type": "code",
   "execution_count": 88,
   "metadata": {},
   "outputs": [
    {
     "data": {
      "text/html": [
       "<div>\n",
       "<style scoped>\n",
       "    .dataframe tbody tr th:only-of-type {\n",
       "        vertical-align: middle;\n",
       "    }\n",
       "\n",
       "    .dataframe tbody tr th {\n",
       "        vertical-align: top;\n",
       "    }\n",
       "\n",
       "    .dataframe thead th {\n",
       "        text-align: right;\n",
       "    }\n",
       "</style>\n",
       "<table border=\"1\" class=\"dataframe\">\n",
       "  <thead>\n",
       "    <tr style=\"text-align: right;\">\n",
       "      <th></th>\n",
       "      <th>age</th>\n",
       "      <th>sex</th>\n",
       "      <th>bmi</th>\n",
       "      <th>children</th>\n",
       "      <th>smoker</th>\n",
       "      <th>region</th>\n",
       "    </tr>\n",
       "  </thead>\n",
       "  <tbody>\n",
       "    <tr>\n",
       "      <th>0</th>\n",
       "      <td>19</td>\n",
       "      <td>0</td>\n",
       "      <td>27.900</td>\n",
       "      <td>0</td>\n",
       "      <td>1</td>\n",
       "      <td>3</td>\n",
       "    </tr>\n",
       "    <tr>\n",
       "      <th>1</th>\n",
       "      <td>18</td>\n",
       "      <td>1</td>\n",
       "      <td>33.770</td>\n",
       "      <td>1</td>\n",
       "      <td>0</td>\n",
       "      <td>2</td>\n",
       "    </tr>\n",
       "    <tr>\n",
       "      <th>2</th>\n",
       "      <td>28</td>\n",
       "      <td>1</td>\n",
       "      <td>33.000</td>\n",
       "      <td>3</td>\n",
       "      <td>0</td>\n",
       "      <td>2</td>\n",
       "    </tr>\n",
       "    <tr>\n",
       "      <th>3</th>\n",
       "      <td>33</td>\n",
       "      <td>1</td>\n",
       "      <td>22.705</td>\n",
       "      <td>0</td>\n",
       "      <td>0</td>\n",
       "      <td>1</td>\n",
       "    </tr>\n",
       "    <tr>\n",
       "      <th>4</th>\n",
       "      <td>32</td>\n",
       "      <td>1</td>\n",
       "      <td>28.880</td>\n",
       "      <td>0</td>\n",
       "      <td>0</td>\n",
       "      <td>1</td>\n",
       "    </tr>\n",
       "    <tr>\n",
       "      <th>...</th>\n",
       "      <td>...</td>\n",
       "      <td>...</td>\n",
       "      <td>...</td>\n",
       "      <td>...</td>\n",
       "      <td>...</td>\n",
       "      <td>...</td>\n",
       "    </tr>\n",
       "    <tr>\n",
       "      <th>1333</th>\n",
       "      <td>50</td>\n",
       "      <td>1</td>\n",
       "      <td>30.970</td>\n",
       "      <td>3</td>\n",
       "      <td>0</td>\n",
       "      <td>1</td>\n",
       "    </tr>\n",
       "    <tr>\n",
       "      <th>1334</th>\n",
       "      <td>18</td>\n",
       "      <td>0</td>\n",
       "      <td>31.920</td>\n",
       "      <td>0</td>\n",
       "      <td>0</td>\n",
       "      <td>0</td>\n",
       "    </tr>\n",
       "    <tr>\n",
       "      <th>1335</th>\n",
       "      <td>18</td>\n",
       "      <td>0</td>\n",
       "      <td>36.850</td>\n",
       "      <td>0</td>\n",
       "      <td>0</td>\n",
       "      <td>2</td>\n",
       "    </tr>\n",
       "    <tr>\n",
       "      <th>1336</th>\n",
       "      <td>21</td>\n",
       "      <td>0</td>\n",
       "      <td>25.800</td>\n",
       "      <td>0</td>\n",
       "      <td>0</td>\n",
       "      <td>3</td>\n",
       "    </tr>\n",
       "    <tr>\n",
       "      <th>1337</th>\n",
       "      <td>61</td>\n",
       "      <td>0</td>\n",
       "      <td>29.070</td>\n",
       "      <td>0</td>\n",
       "      <td>1</td>\n",
       "      <td>1</td>\n",
       "    </tr>\n",
       "  </tbody>\n",
       "</table>\n",
       "<p>1331 rows × 6 columns</p>\n",
       "</div>"
      ],
      "text/plain": [
       "      age  sex     bmi  children  smoker  region\n",
       "0      19    0  27.900         0       1       3\n",
       "1      18    1  33.770         1       0       2\n",
       "2      28    1  33.000         3       0       2\n",
       "3      33    1  22.705         0       0       1\n",
       "4      32    1  28.880         0       0       1\n",
       "...   ...  ...     ...       ...     ...     ...\n",
       "1333   50    1  30.970         3       0       1\n",
       "1334   18    0  31.920         0       0       0\n",
       "1335   18    0  36.850         0       0       2\n",
       "1336   21    0  25.800         0       0       3\n",
       "1337   61    0  29.070         0       1       1\n",
       "\n",
       "[1331 rows x 6 columns]"
      ]
     },
     "execution_count": 88,
     "metadata": {},
     "output_type": "execute_result"
    }
   ],
   "source": [
    "X"
   ]
  },
  {
   "cell_type": "code",
   "execution_count": 89,
   "metadata": {},
   "outputs": [],
   "source": [
    "y=df['charges']"
   ]
  },
  {
   "cell_type": "code",
   "execution_count": 90,
   "metadata": {},
   "outputs": [
    {
     "data": {
      "text/plain": [
       "0       16884.92400\n",
       "1        1725.55230\n",
       "2        4449.46200\n",
       "3       21984.47061\n",
       "4        3866.85520\n",
       "           ...     \n",
       "1333    10600.54830\n",
       "1334     2205.98080\n",
       "1335     1629.83350\n",
       "1336     2007.94500\n",
       "1337    29141.36030\n",
       "Name: charges, Length: 1331, dtype: float64"
      ]
     },
     "execution_count": 90,
     "metadata": {},
     "output_type": "execute_result"
    }
   ],
   "source": [
    "y"
   ]
  },
  {
   "cell_type": "code",
   "execution_count": 91,
   "metadata": {},
   "outputs": [
    {
     "data": {
      "text/plain": [
       "ExtraTreesRegressor()"
      ]
     },
     "execution_count": 91,
     "metadata": {},
     "output_type": "execute_result"
    }
   ],
   "source": [
    "from sklearn.ensemble import ExtraTreesRegressor\n",
    "selection = ExtraTreesRegressor()\n",
    "selection.fit(X, y)"
   ]
  },
  {
   "cell_type": "code",
   "execution_count": 92,
   "metadata": {},
   "outputs": [
    {
     "name": "stdout",
     "output_type": "stream",
     "text": [
      "[0.13555455 0.00967538 0.19001146 0.02435462 0.61808107 0.02232292]\n"
     ]
    }
   ],
   "source": [
    "print(selection.feature_importances_)"
   ]
  },
  {
   "cell_type": "code",
   "execution_count": 93,
   "metadata": {},
   "outputs": [
    {
     "data": {
      "text/plain": [
       "<matplotlib.axes._subplots.AxesSubplot at 0x26236259fd0>"
      ]
     },
     "execution_count": 93,
     "metadata": {},
     "output_type": "execute_result"
    },
    {
     "data": {
      "image/png": "[encoded data removed]",
      "text/plain": [
       "<Figure size 1080x720 with 1 Axes>"
      ]
     },
     "metadata": {
      "needs_background": "light"
     },
     "output_type": "display_data"
    }
   ],
   "source": [
    "plt.figure(figsize=(15,10))\n",
    "feature_imp=pd.Series(selection.feature_importances_, index=X.columns)\n",
    "feature_imp.nlargest(25).plot(kind='barh')"
   ]
  },
  {
   "cell_type": "code",
   "execution_count": 94,
   "metadata": {},
   "outputs": [],
   "source": [
    "from sklearn.svm import SVR\n",
    "from sklearn.ensemble import RandomForestRegressor\n",
    "from sklearn.tree import DecisionTreeRegressor\n",
    "from sklearn.linear_model import Lasso\n",
    "from sklearn.linear_model import LinearRegression\n",
    "from xgboost import XGBRegressor\n",
    "from sklearn.neighbors import KNeighborsRegressor\n",
    "from sklearn.linear_model import Ridge\n",
    "\n",
    "from sklearn.model_selection import RandomizedSearchCV\n",
    "from sklearn.model_selection import ShuffleSplit\n",
    "from sklearn.model_selection import GridSearchCV\n",
    "from sklearn.model_selection import cross_val_score\n",
    "from sklearn.preprocessing import StandardScaler"
   ]
  },
  {
   "cell_type": "code",
   "execution_count": 95,
   "metadata": {},
   "outputs": [],
   "source": [
    "from sklearn.model_selection import train_test_split\n",
    "X_train,X_test,y_train,y_test=train_test_split(X,y,test_size=0.25,random_state=25)"
   ]
  },
  {
   "cell_type": "code",
   "execution_count": 96,
   "metadata": {},
   "outputs": [],
   "source": [
    "s=StandardScaler()\n",
    "X_train=s.fit_transform(X_train)\n",
    "X_test=s.transform(X_test)"
   ]
  },
  {
   "cell_type": "code",
   "execution_count": 97,
   "metadata": {},
   "outputs": [
    {
     "data": {
      "text/plain": [
       "0.7549000109177018"
      ]
     },
     "execution_count": 97,
     "metadata": {},
     "output_type": "execute_result"
    }
   ],
   "source": [
    "lasso=Lasso()\n",
    "lasso.fit(X_train,y_train)\n",
    "lasso.score(X_test,y_test)"
   ]
  },
  {
   "cell_type": "code",
   "execution_count": 99,
   "metadata": {
    "scrolled": true
   },
   "outputs": [
    {
     "name": "stdout",
     "output_type": "stream",
     "text": [
      "CV_Score Lasso: 0.7310316305760468\n",
      "CV_Score Ridge: 0.7312954503268928\n",
      "CV_Score KNeighborsRegressor: 0.06385921233267795\n",
      "CV_Score LinearRegression: 0.7310123172336909\n",
      "CV_Score DecisionTreeRegressor: 0.6905875587124736\n",
      "CV_Score RandomForestRegressor: 0.8319782420883456\n",
      "CV_Score XGBRegressor: 0.7989431283746002\n"
     ]
    }
   ],
   "source": [
    "algo=[]\n",
    "value=[]\n",
    "def cross_val_score_model(model,name):\n",
    "    cv = ShuffleSplit(n_splits=5, test_size=0.25, random_state=25)\n",
    "    cv_score=cross_val_score(model,X,y,cv=cv).mean()\n",
    "    print('CV_Score' + ' '+ str(name) +': '+ str(cv_score))\n",
    "    algo.append(name)\n",
    "    value.append(cv_score)\n",
    "    \n",
    "cross_val_score_model(Lasso(),'Lasso')\n",
    "cross_val_score_model(Ridge(),'Ridge')\n",
    "cross_val_score_model(KNeighborsRegressor(),'KNeighborsRegressor')\n",
    "cross_val_score_model(LinearRegression(),'LinearRegression')\n",
    "cross_val_score_model(DecisionTreeRegressor(),'DecisionTreeRegressor')\n",
    "cross_val_score_model(RandomForestRegressor(),'RandomForestRegressor')\n",
    "cross_val_score_model(XGBRegressor(),'XGBRegressor')"
   ]
  },
  {
   "cell_type": "code",
   "execution_count": 100,
   "metadata": {},
   "outputs": [],
   "source": [
    "model_params={                  \n",
    "    'Lasso':{\n",
    "        'model':Lasso(),\n",
    "        'params':{\n",
    "            'max_iter' : [1000,1200,1300,1500]\n",
    "            \n",
    "        }\n",
    "    },\n",
    "       'Ridge:':{\n",
    "        'model':Ridge(),\n",
    "        'params':{\n",
    "            'max_iter' : [1000,1200,1300,1500]\n",
    "            \n",
    "        }\n",
    "    },\n",
    "     'LinearRegression:':{\n",
    "        'model':LinearRegression(),\n",
    "        'params':{\n",
    "            'n_jobs' : [100,200,300,500]\n",
    "            \n",
    "        }\n",
    "    },\n",
    "        'RandomForestRegressor':{\n",
    "        'model':RandomForestRegressor(),\n",
    "        'params':{\n",
    "            'n_estimators' :[100,300,500,800,1000, 1200],\n",
    "            'max_features' : ['auto', 'sqrt'],\n",
    "            'max_depth' : [5,10,15,20,25,30,35,40,45,50]\n",
    "        }\n",
    "    },\n",
    "    'XGBRegressor':{\n",
    "        'model':XGBRegressor(),\n",
    "        'params':{\n",
    "            'n_estimators' : [100, 500, 1000, 1300, 1500],\n",
    "            'max_depth' : [2, 3, 5, 10, 15],\n",
    "            'booster':['gbtree','gblinear'],\n",
    "            'learning_rate':[0.05,0.1,0.15,0.20],\n",
    "            'min_child_weight':[1,2,3,4],\n",
    "            'base_score':[0.25,0.5,0.75,1]\n",
    "        }\n",
    "    }\n",
    "\n",
    "}"
   ]
  },
  {
   "cell_type": "code",
   "execution_count": 101,
   "metadata": {
    "scrolled": false
   },
   "outputs": [
    {
     "name": "stdout",
     "output_type": "stream",
     "text": [
      "Fitting 5 folds for each of 4 candidates, totalling 20 fits\n",
      "[CV] max_iter=1000 ...................................................\n",
      "[CV] .................................... max_iter=1000, total=   0.0s\n",
      "[CV] max_iter=1000 ...................................................\n",
      "[CV] .................................... max_iter=1000, total=   0.0s\n",
      "[CV] max_iter=1000 ...................................................\n",
      "[CV] .................................... max_iter=1000, total=   0.0s\n",
      "[CV] max_iter=1000 ...................................................\n",
      "[CV] .................................... max_iter=1000, total=   0.0s\n",
      "[CV] max_iter=1000 ...................................................\n",
      "[CV] .................................... max_iter=1000, total=   0.0s\n",
      "[CV] max_iter=1200 ...................................................\n",
      "[CV] .................................... max_iter=1200, total=   0.0s\n",
      "[CV] max_iter=1200 ...................................................\n",
      "[CV] .................................... max_iter=1200, total=   0.0s\n",
      "[CV] max_iter=1200 ...................................................\n",
      "[CV] .................................... max_iter=1200, total=   0.0s\n",
      "[CV] max_iter=1200 ...................................................\n",
      "[CV] .................................... max_iter=1200, total=   0.0s\n",
      "[CV] max_iter=1200 ...................................................\n",
      "[CV] .................................... max_iter=1200, total=   0.0s\n",
      "[CV] max_iter=1300 ...................................................\n",
      "[CV] .................................... max_iter=1300, total=   0.0s\n",
      "[CV] max_iter=1300 ...................................................\n",
      "[CV] .................................... max_iter=1300, total=   0.0s\n",
      "[CV] max_iter=1300 ...................................................\n",
      "[CV] .................................... max_iter=1300, total=   0.0s\n",
      "[CV] max_iter=1300 ...................................................\n",
      "[CV] .................................... max_iter=1300, total=   0.0s\n",
      "[CV] max_iter=1300 ...................................................\n"
     ]
    },
    {
     "name": "stderr",
     "output_type": "stream",
     "text": [
      "[Parallel(n_jobs=1)]: Using backend SequentialBackend with 1 concurrent workers.\n",
      "[Parallel(n_jobs=1)]: Done   1 out of   1 | elapsed:    0.0s remaining:    0.0s\n"
     ]
    },
    {
     "name": "stdout",
     "output_type": "stream",
     "text": [
      "[CV] .................................... max_iter=1300, total=   0.0s\n",
      "[CV] max_iter=1500 ...................................................\n",
      "[CV] .................................... max_iter=1500, total=   0.0s\n",
      "[CV] max_iter=1500 ...................................................\n",
      "[CV] .................................... max_iter=1500, total=   0.0s\n",
      "[CV] max_iter=1500 ...................................................\n",
      "[CV] .................................... max_iter=1500, total=   0.0s\n",
      "[CV] max_iter=1500 ...................................................\n",
      "[CV] .................................... max_iter=1500, total=   0.0s\n",
      "[CV] max_iter=1500 ...................................................\n",
      "[CV] .................................... max_iter=1500, total=   0.0s\n",
      "Fitting 5 folds for each of 4 candidates, totalling 20 fits\n",
      "[CV] max_iter=1000 ...................................................\n",
      "[CV] .................................... max_iter=1000, total=   0.0s\n",
      "[CV] max_iter=1000 ...................................................\n",
      "[CV] .................................... max_iter=1000, total=   0.0s\n",
      "[CV] max_iter=1000 ...................................................\n",
      "[CV] .................................... max_iter=1000, total=   0.0s\n",
      "[CV] max_iter=1000 ...................................................\n",
      "[CV] .................................... max_iter=1000, total=   0.0s\n",
      "[CV] max_iter=1000 ...................................................\n",
      "[CV] .................................... max_iter=1000, total=   0.0s\n",
      "[CV] max_iter=1200 ...................................................\n",
      "[CV] .................................... max_iter=1200, total=   0.0s\n",
      "[CV] max_iter=1200 ...................................................\n",
      "[CV] .................................... max_iter=1200, total=   0.0s\n",
      "[CV] max_iter=1200 ...................................................\n",
      "[CV] .................................... max_iter=1200, total=   0.0s\n",
      "[CV] max_iter=1200 ...................................................\n",
      "[CV] .................................... max_iter=1200, total=   0.0s\n",
      "[CV] max_iter=1200 ...................................................\n",
      "[CV] .................................... max_iter=1200, total=   0.0s"
     ]
    },
    {
     "name": "stderr",
     "output_type": "stream",
     "text": [
      "[Parallel(n_jobs=1)]: Done  20 out of  20 | elapsed:    0.2s finished\n",
      "[Parallel(n_jobs=1)]: Using backend SequentialBackend with 1 concurrent workers.\n",
      "[Parallel(n_jobs=1)]: Done   1 out of   1 | elapsed:    0.0s remaining:    0.0s\n"
     ]
    },
    {
     "name": "stdout",
     "output_type": "stream",
     "text": [
      "\n",
      "[CV] max_iter=1300 ...................................................\n",
      "[CV] .................................... max_iter=1300, total=   0.0s\n",
      "[CV] max_iter=1300 ...................................................\n",
      "[CV] .................................... max_iter=1300, total=   0.0s\n",
      "[CV] max_iter=1300 ...................................................\n",
      "[CV] .................................... max_iter=1300, total=   0.0s\n",
      "[CV] max_iter=1300 ...................................................\n",
      "[CV] .................................... max_iter=1300, total=   0.0s\n",
      "[CV] max_iter=1300 ...................................................\n",
      "[CV] .................................... max_iter=1300, total=   0.0s\n",
      "[CV] max_iter=1500 ...................................................\n",
      "[CV] .................................... max_iter=1500, total=   0.0s\n",
      "[CV] max_iter=1500 ...................................................\n",
      "[CV] .................................... max_iter=1500, total=   0.0s\n",
      "[CV] max_iter=1500 ...................................................\n",
      "[CV] .................................... max_iter=1500, total=   0.0s\n",
      "[CV] max_iter=1500 ...................................................\n",
      "[CV] .................................... max_iter=1500, total=   0.0s\n",
      "[CV] max_iter=1500 ...................................................\n",
      "[CV] .................................... max_iter=1500, total=   0.0s\n",
      "Fitting 5 folds for each of 4 candidates, totalling 20 fits\n",
      "[CV] n_jobs=100 ......................................................\n",
      "[CV] ....................................... n_jobs=100, total=   0.0s\n",
      "[CV] n_jobs=100 ......................................................\n",
      "[CV] ....................................... n_jobs=100, total=   0.0s\n",
      "[CV] n_jobs=100 ......................................................\n",
      "[CV] ....................................... n_jobs=100, total=   0.0s"
     ]
    },
    {
     "name": "stderr",
     "output_type": "stream",
     "text": [
      "[Parallel(n_jobs=1)]: Done  20 out of  20 | elapsed:    0.2s finished\n",
      "[Parallel(n_jobs=1)]: Using backend SequentialBackend with 1 concurrent workers.\n",
      "[Parallel(n_jobs=1)]: Done   1 out of   1 | elapsed:    0.0s remaining:    0.0s\n"
     ]
    },
    {
     "name": "stdout",
     "output_type": "stream",
     "text": [
      "\n",
      "[CV] n_jobs=100 ......................................................\n",
      "[CV] ....................................... n_jobs=100, total=   0.0s\n",
      "[CV] n_jobs=100 ......................................................\n",
      "[CV] ....................................... n_jobs=100, total=   0.0s\n",
      "[CV] n_jobs=200 ......................................................\n",
      "[CV] ....................................... n_jobs=200, total=   0.0s\n",
      "[CV] n_jobs=200 ......................................................\n",
      "[CV] ....................................... n_jobs=200, total=   0.0s\n",
      "[CV] n_jobs=200 ......................................................\n",
      "[CV] ....................................... n_jobs=200, total=   0.0s\n",
      "[CV] n_jobs=200 ......................................................\n",
      "[CV] ....................................... n_jobs=200, total=   0.0s\n",
      "[CV] n_jobs=200 ......................................................\n",
      "[CV] ....................................... n_jobs=200, total=   0.0s\n",
      "[CV] n_jobs=300 ......................................................\n",
      "[CV] ....................................... n_jobs=300, total=   0.0s\n",
      "[CV] n_jobs=300 ......................................................\n",
      "[CV] ....................................... n_jobs=300, total=   0.0s\n",
      "[CV] n_jobs=300 ......................................................\n",
      "[CV] ....................................... n_jobs=300, total=   0.0s\n",
      "[CV] n_jobs=300 ......................................................\n",
      "[CV] ....................................... n_jobs=300, total=   0.0s\n",
      "[CV] n_jobs=300 ......................................................\n",
      "[CV] ....................................... n_jobs=300, total=   0.0s\n",
      "[CV] n_jobs=500 ......................................................\n",
      "[CV] ....................................... n_jobs=500, total=   0.0s\n",
      "[CV] n_jobs=500 ......................................................\n",
      "[CV] ....................................... n_jobs=500, total=   0.0s\n",
      "[CV] n_jobs=500 ......................................................\n",
      "[CV] ....................................... n_jobs=500, total=   0.0s\n",
      "[CV] n_jobs=500 ......................................................\n",
      "[CV] ....................................... n_jobs=500, total=   0.0s\n",
      "[CV] n_jobs=500 ......................................................\n",
      "[CV] ....................................... n_jobs=500, total=   0.0s\n",
      "Fitting 5 folds for each of 5 candidates, totalling 25 fits\n",
      "[CV] n_estimators=100, max_features=auto, max_depth=35 ...............\n"
     ]
    },
    {
     "name": "stderr",
     "output_type": "stream",
     "text": [
      "[Parallel(n_jobs=1)]: Done  20 out of  20 | elapsed:    0.1s finished\n",
      "[Parallel(n_jobs=1)]: Using backend SequentialBackend with 1 concurrent workers.\n"
     ]
    },
    {
     "name": "stdout",
     "output_type": "stream",
     "text": [
      "[CV]  n_estimators=100, max_features=auto, max_depth=35, total=   0.5s\n",
      "[CV] n_estimators=100, max_features=auto, max_depth=35 ...............\n"
     ]
    },
    {
     "name": "stderr",
     "output_type": "stream",
     "text": [
      "[Parallel(n_jobs=1)]: Done   1 out of   1 | elapsed:    0.4s remaining:    0.0s\n"
     ]
    },
    {
     "name": "stdout",
     "output_type": "stream",
     "text": [
      "[CV]  n_estimators=100, max_features=auto, max_depth=35, total=   0.5s\n",
      "[CV] n_estimators=100, max_features=auto, max_depth=35 ...............\n",
      "[CV]  n_estimators=100, max_features=auto, max_depth=35, total=   0.5s\n",
      "[CV] n_estimators=100, max_features=auto, max_depth=35 ...............\n",
      "[CV]  n_estimators=100, max_features=auto, max_depth=35, total=   0.5s\n",
      "[CV] n_estimators=100, max_features=auto, max_depth=35 ...............\n",
      "[CV]  n_estimators=100, max_features=auto, max_depth=35, total=   0.5s\n",
      "[CV] n_estimators=1000, max_features=sqrt, max_depth=10 ..............\n",
      "[CV]  n_estimators=1000, max_features=sqrt, max_depth=10, total=   3.4s\n",
      "[CV] n_estimators=1000, max_features=sqrt, max_depth=10 ..............\n",
      "[CV]  n_estimators=1000, max_features=sqrt, max_depth=10, total=   3.4s\n",
      "[CV] n_estimators=1000, max_features=sqrt, max_depth=10 ..............\n",
      "[CV]  n_estimators=1000, max_features=sqrt, max_depth=10, total=   3.4s\n",
      "[CV] n_estimators=1000, max_features=sqrt, max_depth=10 ..............\n",
      "[CV]  n_estimators=1000, max_features=sqrt, max_depth=10, total=   3.4s\n",
      "[CV] n_estimators=1000, max_features=sqrt, max_depth=10 ..............\n",
      "[CV]  n_estimators=1000, max_features=sqrt, max_depth=10, total=   3.6s\n",
      "[CV] n_estimators=500, max_features=auto, max_depth=15 ...............\n",
      "[CV]  n_estimators=500, max_features=auto, max_depth=15, total=   2.6s\n",
      "[CV] n_estimators=500, max_features=auto, max_depth=15 ...............\n",
      "[CV]  n_estimators=500, max_features=auto, max_depth=15, total=   2.5s\n",
      "[CV] n_estimators=500, max_features=auto, max_depth=15 ...............\n",
      "[CV]  n_estimators=500, max_features=auto, max_depth=15, total=   2.6s\n",
      "[CV] n_estimators=500, max_features=auto, max_depth=15 ...............\n",
      "[CV]  n_estimators=500, max_features=auto, max_depth=15, total=   2.6s\n",
      "[CV] n_estimators=500, max_features=auto, max_depth=15 ...............\n",
      "[CV]  n_estimators=500, max_features=auto, max_depth=15, total=   2.5s\n",
      "[CV] n_estimators=300, max_features=auto, max_depth=40 ...............\n",
      "[CV]  n_estimators=300, max_features=auto, max_depth=40, total=   1.5s\n",
      "[CV] n_estimators=300, max_features=auto, max_depth=40 ...............\n",
      "[CV]  n_estimators=300, max_features=auto, max_depth=40, total=   1.5s\n",
      "[CV] n_estimators=300, max_features=auto, max_depth=40 ...............\n",
      "[CV]  n_estimators=300, max_features=auto, max_depth=40, total=   1.6s\n",
      "[CV] n_estimators=300, max_features=auto, max_depth=40 ...............\n",
      "[CV]  n_estimators=300, max_features=auto, max_depth=40, total=   1.5s\n",
      "[CV] n_estimators=300, max_features=auto, max_depth=40 ...............\n",
      "[CV]  n_estimators=300, max_features=auto, max_depth=40, total=   1.5s\n",
      "[CV] n_estimators=100, max_features=sqrt, max_depth=10 ...............\n",
      "[CV]  n_estimators=100, max_features=sqrt, max_depth=10, total=   0.4s\n",
      "[CV] n_estimators=100, max_features=sqrt, max_depth=10 ...............\n",
      "[CV]  n_estimators=100, max_features=sqrt, max_depth=10, total=   0.4s\n",
      "[CV] n_estimators=100, max_features=sqrt, max_depth=10 ...............\n",
      "[CV]  n_estimators=100, max_features=sqrt, max_depth=10, total=   0.3s\n",
      "[CV] n_estimators=100, max_features=sqrt, max_depth=10 ...............\n",
      "[CV]  n_estimators=100, max_features=sqrt, max_depth=10, total=   0.4s\n",
      "[CV] n_estimators=100, max_features=sqrt, max_depth=10 ...............\n",
      "[CV]  n_estimators=100, max_features=sqrt, max_depth=10, total=   0.4s\n"
     ]
    },
    {
     "name": "stderr",
     "output_type": "stream",
     "text": [
      "[Parallel(n_jobs=1)]: Done  25 out of  25 | elapsed:   42.1s finished\n"
     ]
    },
    {
     "name": "stdout",
     "output_type": "stream",
     "text": [
      "Fitting 5 folds for each of 5 candidates, totalling 25 fits\n",
      "[CV] n_estimators=1500, min_child_weight=2, max_depth=10, learning_rate=0.15, booster=gbtree, base_score=0.25 \n"
     ]
    },
    {
     "name": "stderr",
     "output_type": "stream",
     "text": [
      "[Parallel(n_jobs=1)]: Using backend SequentialBackend with 1 concurrent workers.\n"
     ]
    },
    {
     "name": "stdout",
     "output_type": "stream",
     "text": [
      "[CV]  n_estimators=1500, min_child_weight=2, max_depth=10, learning_rate=0.15, booster=gbtree, base_score=0.25, total=   2.3s\n",
      "[CV] n_estimators=1500, min_child_weight=2, max_depth=10, learning_rate=0.15, booster=gbtree, base_score=0.25 \n"
     ]
    },
    {
     "name": "stderr",
     "output_type": "stream",
     "text": [
      "[Parallel(n_jobs=1)]: Done   1 out of   1 | elapsed:    2.2s remaining:    0.0s\n"
     ]
    },
    {
     "name": "stdout",
     "output_type": "stream",
     "text": [
      "[CV]  n_estimators=1500, min_child_weight=2, max_depth=10, learning_rate=0.15, booster=gbtree, base_score=0.25, total=   2.5s\n",
      "[CV] n_estimators=1500, min_child_weight=2, max_depth=10, learning_rate=0.15, booster=gbtree, base_score=0.25 \n",
      "[CV]  n_estimators=1500, min_child_weight=2, max_depth=10, learning_rate=0.15, booster=gbtree, base_score=0.25, total=   2.3s\n",
      "[CV] n_estimators=1500, min_child_weight=2, max_depth=10, learning_rate=0.15, booster=gbtree, base_score=0.25 \n",
      "[CV]  n_estimators=1500, min_child_weight=2, max_depth=10, learning_rate=0.15, booster=gbtree, base_score=0.25, total=   2.3s\n",
      "[CV] n_estimators=1500, min_child_weight=2, max_depth=10, learning_rate=0.15, booster=gbtree, base_score=0.25 \n",
      "[CV]  n_estimators=1500, min_child_weight=2, max_depth=10, learning_rate=0.15, booster=gbtree, base_score=0.25, total=   2.2s\n",
      "[CV] n_estimators=500, min_child_weight=3, max_depth=15, learning_rate=0.05, booster=gbtree, base_score=0.75 \n",
      "[CV]  n_estimators=500, min_child_weight=3, max_depth=15, learning_rate=0.05, booster=gbtree, base_score=0.75, total=   1.0s\n",
      "[CV] n_estimators=500, min_child_weight=3, max_depth=15, learning_rate=0.05, booster=gbtree, base_score=0.75 \n",
      "[CV]  n_estimators=500, min_child_weight=3, max_depth=15, learning_rate=0.05, booster=gbtree, base_score=0.75, total=   1.0s\n",
      "[CV] n_estimators=500, min_child_weight=3, max_depth=15, learning_rate=0.05, booster=gbtree, base_score=0.75 \n",
      "[CV]  n_estimators=500, min_child_weight=3, max_depth=15, learning_rate=0.05, booster=gbtree, base_score=0.75, total=   1.0s\n",
      "[CV] n_estimators=500, min_child_weight=3, max_depth=15, learning_rate=0.05, booster=gbtree, base_score=0.75 \n",
      "[CV]  n_estimators=500, min_child_weight=3, max_depth=15, learning_rate=0.05, booster=gbtree, base_score=0.75, total=   1.0s\n",
      "[CV] n_estimators=500, min_child_weight=3, max_depth=15, learning_rate=0.05, booster=gbtree, base_score=0.75 \n",
      "[CV]  n_estimators=500, min_child_weight=3, max_depth=15, learning_rate=0.05, booster=gbtree, base_score=0.75, total=   1.0s\n",
      "[CV] n_estimators=1000, min_child_weight=3, max_depth=15, learning_rate=0.2, booster=gblinear, base_score=0.75 \n",
      "[22:38:03] WARNING: C:\\Users\\Administrator\\workspace\\xgboost-win64_release_1.2.0\\src\\learner.cc:516: \n",
      "Parameters: { max_depth, min_child_weight } might not be used.\n",
      "\n",
      "  This may not be accurate due to some parameters are only used in language bindings but\n",
      "  passed down to XGBoost core.  Or some parameters are not used but slip through this\n",
      "  verification. Please open an issue if you find above cases.\n",
      "\n",
      "\n",
      "[CV]  n_estimators=1000, min_child_weight=3, max_depth=15, learning_rate=0.2, booster=gblinear, base_score=0.75, total=   0.2s\n",
      "[CV] n_estimators=1000, min_child_weight=3, max_depth=15, learning_rate=0.2, booster=gblinear, base_score=0.75 \n",
      "[22:38:03] WARNING: C:\\Users\\Administrator\\workspace\\xgboost-win64_release_1.2.0\\src\\learner.cc:516: \n",
      "Parameters: { max_depth, min_child_weight } might not be used.\n",
      "\n",
      "  This may not be accurate due to some parameters are only used in language bindings but\n",
      "  passed down to XGBoost core.  Or some parameters are not used but slip through this\n",
      "  verification. Please open an issue if you find above cases.\n",
      "\n",
      "\n",
      "[CV]  n_estimators=1000, min_child_weight=3, max_depth=15, learning_rate=0.2, booster=gblinear, base_score=0.75, total=   0.2s\n",
      "[CV] n_estimators=1000, min_child_weight=3, max_depth=15, learning_rate=0.2, booster=gblinear, base_score=0.75 \n",
      "[22:38:03] WARNING: C:\\Users\\Administrator\\workspace\\xgboost-win64_release_1.2.0\\src\\learner.cc:516: \n",
      "Parameters: { max_depth, min_child_weight } might not be used.\n",
      "\n",
      "  This may not be accurate due to some parameters are only used in language bindings but\n",
      "  passed down to XGBoost core.  Or some parameters are not used but slip through this\n",
      "  verification. Please open an issue if you find above cases.\n",
      "\n",
      "\n",
      "[CV]  n_estimators=1000, min_child_weight=3, max_depth=15, learning_rate=0.2, booster=gblinear, base_score=0.75, total=   0.2s\n",
      "[CV] n_estimators=1000, min_child_weight=3, max_depth=15, learning_rate=0.2, booster=gblinear, base_score=0.75 \n",
      "[22:38:04] WARNING: C:\\Users\\Administrator\\workspace\\xgboost-win64_release_1.2.0\\src\\learner.cc:516: \n",
      "Parameters: { max_depth, min_child_weight } might not be used.\n",
      "\n",
      "  This may not be accurate due to some parameters are only used in language bindings but\n",
      "  passed down to XGBoost core.  Or some parameters are not used but slip through this\n",
      "  verification. Please open an issue if you find above cases.\n",
      "\n",
      "\n",
      "[CV]  n_estimators=1000, min_child_weight=3, max_depth=15, learning_rate=0.2, booster=gblinear, base_score=0.75, total=   0.2s\n",
      "[CV] n_estimators=1000, min_child_weight=3, max_depth=15, learning_rate=0.2, booster=gblinear, base_score=0.75 \n",
      "[22:38:04] WARNING: C:\\Users\\Administrator\\workspace\\xgboost-win64_release_1.2.0\\src\\learner.cc:516: \n",
      "Parameters: { max_depth, min_child_weight } might not be used.\n",
      "\n",
      "  This may not be accurate due to some parameters are only used in language bindings but\n",
      "  passed down to XGBoost core.  Or some parameters are not used but slip through this\n",
      "  verification. Please open an issue if you find above cases.\n",
      "\n",
      "\n",
      "[CV]  n_estimators=1000, min_child_weight=3, max_depth=15, learning_rate=0.2, booster=gblinear, base_score=0.75, total=   0.2s\n",
      "[CV] n_estimators=500, min_child_weight=2, max_depth=5, learning_rate=0.15, booster=gblinear, base_score=0.75 \n",
      "[22:38:04] WARNING: C:\\Users\\Administrator\\workspace\\xgboost-win64_release_1.2.0\\src\\learner.cc:516: \n",
      "Parameters: { max_depth, min_child_weight } might not be used.\n",
      "\n",
      "  This may not be accurate due to some parameters are only used in language bindings but\n",
      "  passed down to XGBoost core.  Or some parameters are not used but slip through this\n",
      "  verification. Please open an issue if you find above cases.\n",
      "\n",
      "\n",
      "[CV]  n_estimators=500, min_child_weight=2, max_depth=5, learning_rate=0.15, booster=gblinear, base_score=0.75, total=   0.1s\n",
      "[CV] n_estimators=500, min_child_weight=2, max_depth=5, learning_rate=0.15, booster=gblinear, base_score=0.75 \n",
      "[22:38:04] WARNING: C:\\Users\\Administrator\\workspace\\xgboost-win64_release_1.2.0\\src\\learner.cc:516: \n",
      "Parameters: { max_depth, min_child_weight } might not be used.\n",
      "\n",
      "  This may not be accurate due to some parameters are only used in language bindings but\n",
      "  passed down to XGBoost core.  Or some parameters are not used but slip through this\n",
      "  verification. Please open an issue if you find above cases.\n",
      "\n",
      "\n",
      "[CV]  n_estimators=500, min_child_weight=2, max_depth=5, learning_rate=0.15, booster=gblinear, base_score=0.75, total=   0.1s\n",
      "[CV] n_estimators=500, min_child_weight=2, max_depth=5, learning_rate=0.15, booster=gblinear, base_score=0.75 \n",
      "[22:38:04] WARNING: C:\\Users\\Administrator\\workspace\\xgboost-win64_release_1.2.0\\src\\learner.cc:516: \n",
      "Parameters: { max_depth, min_child_weight } might not be used.\n",
      "\n",
      "  This may not be accurate due to some parameters are only used in language bindings but\n",
      "  passed down to XGBoost core.  Or some parameters are not used but slip through this\n",
      "  verification. Please open an issue if you find above cases.\n",
      "\n",
      "\n",
      "[CV]  n_estimators=500, min_child_weight=2, max_depth=5, learning_rate=0.15, booster=gblinear, base_score=0.75, total=   0.1s\n",
      "[CV] n_estimators=500, min_child_weight=2, max_depth=5, learning_rate=0.15, booster=gblinear, base_score=0.75 \n",
      "[22:38:04] WARNING: C:\\Users\\Administrator\\workspace\\xgboost-win64_release_1.2.0\\src\\learner.cc:516: \n",
      "Parameters: { max_depth, min_child_weight } might not be used.\n",
      "\n",
      "  This may not be accurate due to some parameters are only used in language bindings but\n",
      "  passed down to XGBoost core.  Or some parameters are not used but slip through this\n",
      "  verification. Please open an issue if you find above cases.\n",
      "\n",
      "\n",
      "[CV]  n_estimators=500, min_child_weight=2, max_depth=5, learning_rate=0.15, booster=gblinear, base_score=0.75, total=   0.1s\n",
      "[CV] n_estimators=500, min_child_weight=2, max_depth=5, learning_rate=0.15, booster=gblinear, base_score=0.75 \n",
      "[22:38:04] WARNING: C:\\Users\\Administrator\\workspace\\xgboost-win64_release_1.2.0\\src\\learner.cc:516: \n",
      "Parameters: { max_depth, min_child_weight } might not be used.\n",
      "\n",
      "  This may not be accurate due to some parameters are only used in language bindings but\n",
      "  passed down to XGBoost core.  Or some parameters are not used but slip through this\n",
      "  verification. Please open an issue if you find above cases.\n",
      "\n",
      "\n",
      "[CV]  n_estimators=500, min_child_weight=2, max_depth=5, learning_rate=0.15, booster=gblinear, base_score=0.75, total=   0.1s\n",
      "[CV] n_estimators=100, min_child_weight=1, max_depth=5, learning_rate=0.1, booster=gblinear, base_score=0.25 \n",
      "[22:38:05] WARNING: C:\\Users\\Administrator\\workspace\\xgboost-win64_release_1.2.0\\src\\learner.cc:516: \n",
      "Parameters: { max_depth, min_child_weight } might not be used.\n",
      "\n",
      "  This may not be accurate due to some parameters are only used in language bindings but\n",
      "  passed down to XGBoost core.  Or some parameters are not used but slip through this\n",
      "  verification. Please open an issue if you find above cases.\n",
      "\n",
      "\n",
      "[CV]  n_estimators=100, min_child_weight=1, max_depth=5, learning_rate=0.1, booster=gblinear, base_score=0.25, total=   0.0s\n",
      "[CV] n_estimators=100, min_child_weight=1, max_depth=5, learning_rate=0.1, booster=gblinear, base_score=0.25 \n",
      "[22:38:05] WARNING: C:\\Users\\Administrator\\workspace\\xgboost-win64_release_1.2.0\\src\\learner.cc:516: \n",
      "Parameters: { max_depth, min_child_weight } might not be used.\n",
      "\n",
      "  This may not be accurate due to some parameters are only used in language bindings but\n",
      "  passed down to XGBoost core.  Or some parameters are not used but slip through this\n",
      "  verification. Please open an issue if you find above cases.\n",
      "\n",
      "\n",
      "[CV]  n_estimators=100, min_child_weight=1, max_depth=5, learning_rate=0.1, booster=gblinear, base_score=0.25, total=   0.0s\n",
      "[CV] n_estimators=100, min_child_weight=1, max_depth=5, learning_rate=0.1, booster=gblinear, base_score=0.25 \n",
      "[22:38:05] WARNING: C:\\Users\\Administrator\\workspace\\xgboost-win64_release_1.2.0\\src\\learner.cc:516: \n",
      "Parameters: { max_depth, min_child_weight } might not be used.\n",
      "\n",
      "  This may not be accurate due to some parameters are only used in language bindings but\n",
      "  passed down to XGBoost core.  Or some parameters are not used but slip through this\n",
      "  verification. Please open an issue if you find above cases.\n",
      "\n",
      "\n",
      "[CV]  n_estimators=100, min_child_weight=1, max_depth=5, learning_rate=0.1, booster=gblinear, base_score=0.25, total=   0.0s\n",
      "[CV] n_estimators=100, min_child_weight=1, max_depth=5, learning_rate=0.1, booster=gblinear, base_score=0.25 \n",
      "[22:38:05] WARNING: C:\\Users\\Administrator\\workspace\\xgboost-win64_release_1.2.0\\src\\learner.cc:516: \n",
      "Parameters: { max_depth, min_child_weight } might not be used.\n",
      "\n",
      "  This may not be accurate due to some parameters are only used in language bindings but\n",
      "  passed down to XGBoost core.  Or some parameters are not used but slip through this\n",
      "  verification. Please open an issue if you find above cases.\n",
      "\n",
      "\n",
      "[CV]  n_estimators=100, min_child_weight=1, max_depth=5, learning_rate=0.1, booster=gblinear, base_score=0.25, total=   0.0s\n",
      "[CV] n_estimators=100, min_child_weight=1, max_depth=5, learning_rate=0.1, booster=gblinear, base_score=0.25 \n",
      "[22:38:05] WARNING: C:\\Users\\Administrator\\workspace\\xgboost-win64_release_1.2.0\\src\\learner.cc:516: \n",
      "Parameters: { max_depth, min_child_weight } might not be used.\n",
      "\n",
      "  This may not be accurate due to some parameters are only used in language bindings but\n",
      "  passed down to XGBoost core.  Or some parameters are not used but slip through this\n",
      "  verification. Please open an issue if you find above cases.\n",
      "\n",
      "\n",
      "[CV]  n_estimators=100, min_child_weight=1, max_depth=5, learning_rate=0.1, booster=gblinear, base_score=0.25, total=   0.0s\n"
     ]
    },
    {
     "name": "stderr",
     "output_type": "stream",
     "text": [
      "[Parallel(n_jobs=1)]: Done  25 out of  25 | elapsed:   18.0s finished\n"
     ]
    },
    {
     "data": {
      "text/html": [
       "<div>\n",
       "<style scoped>\n",
       "    .dataframe tbody tr th:only-of-type {\n",
       "        vertical-align: middle;\n",
       "    }\n",
       "\n",
       "    .dataframe tbody tr th {\n",
       "        vertical-align: top;\n",
       "    }\n",
       "\n",
       "    .dataframe thead th {\n",
       "        text-align: right;\n",
       "    }\n",
       "</style>\n",
       "<table border=\"1\" class=\"dataframe\">\n",
       "  <thead>\n",
       "    <tr style=\"text-align: right;\">\n",
       "      <th></th>\n",
       "      <th>model</th>\n",
       "      <th>best param</th>\n",
       "    </tr>\n",
       "  </thead>\n",
       "  <tbody>\n",
       "    <tr>\n",
       "      <th>0</th>\n",
       "      <td>Lasso</td>\n",
       "      <td>{'max_iter': 1000}</td>\n",
       "    </tr>\n",
       "    <tr>\n",
       "      <th>1</th>\n",
       "      <td>Ridge:</td>\n",
       "      <td>{'max_iter': 1000}</td>\n",
       "    </tr>\n",
       "    <tr>\n",
       "      <th>2</th>\n",
       "      <td>LinearRegression:</td>\n",
       "      <td>{'n_jobs': 100}</td>\n",
       "    </tr>\n",
       "    <tr>\n",
       "      <th>3</th>\n",
       "      <td>RandomForestRegressor</td>\n",
       "      <td>{'n_estimators': 1000, 'max_features': 'sqrt',...</td>\n",
       "    </tr>\n",
       "    <tr>\n",
       "      <th>4</th>\n",
       "      <td>XGBRegressor</td>\n",
       "      <td>{'n_estimators': 500, 'min_child_weight': 3, '...</td>\n",
       "    </tr>\n",
       "  </tbody>\n",
       "</table>\n",
       "</div>"
      ],
      "text/plain": [
       "                   model                                         best param\n",
       "0                  Lasso                                 {'max_iter': 1000}\n",
       "1                 Ridge:                                 {'max_iter': 1000}\n",
       "2      LinearRegression:                                    {'n_jobs': 100}\n",
       "3  RandomForestRegressor  {'n_estimators': 1000, 'max_features': 'sqrt',...\n",
       "4           XGBRegressor  {'n_estimators': 500, 'min_child_weight': 3, '..."
      ]
     },
     "execution_count": 101,
     "metadata": {},
     "output_type": "execute_result"
    }
   ],
   "source": [
    "scores=[]\n",
    "cv = ShuffleSplit(n_splits=5, test_size=0.25, random_state=25)\n",
    "for model_name, mp in model_params.items():\n",
    "    random_clf=RandomizedSearchCV(mp['model'],mp['params'],scoring='neg_mean_squared_error', n_iter = 5, cv = cv, verbose=2, n_jobs = 1, return_train_score=False)\n",
    "    random_clf.fit(X,y)\n",
    "    scores.append({\n",
    "        'model':model_name,\n",
    "        'best_score':random_clf.best_score_,\n",
    "        'best param':random_clf.best_params_,\n",
    "        'best estimator':random_clf.best_estimator_\n",
    "    })\n",
    "\n",
    "ds=pd.DataFrame(scores,columns=['model','best param'])\n",
    "ds"
   ]
  },
  {
   "cell_type": "code",
   "execution_count": 102,
   "metadata": {},
   "outputs": [
    {
     "name": "stdout",
     "output_type": "stream",
     "text": [
      "0                                                                                                               {'max_iter': 1000}\n",
      "1                                                                                                               {'max_iter': 1000}\n",
      "2                                                                                                                  {'n_jobs': 100}\n",
      "3                                                                  {'n_estimators': 1000, 'max_features': 'sqrt', 'max_depth': 10}\n",
      "4    {'n_estimators': 500, 'min_child_weight': 3, 'max_depth': 15, 'learning_rate': 0.05, 'booster': 'gbtree', 'base_score': 0.75}\n",
      "Name: best param, dtype: object\n"
     ]
    }
   ],
   "source": [
    "def display_text_max_col_width(df, width):\n",
    "    with pd.option_context('display.max_colwidth', width):\n",
    "        print(df)\n",
    "\n",
    "display_text_max_col_width(ds['best param'], 800)"
   ]
  },
  {
   "cell_type": "code",
   "execution_count": 103,
   "metadata": {},
   "outputs": [
    {
     "name": "stdout",
     "output_type": "stream",
     "text": [
      "CV_Score Lasso_best: 0.7310316305760468\n",
      "CV_Score Ridge_best: 0.7312954503268928\n",
      "CV_Score LinearRegression_best: 0.7310123172336909\n",
      "CV_Score RandomForestRegressor_best: 0.8413263742602327\n",
      "CV_Score XGBRegressor_best: 0.8035431534151428\n"
     ]
    }
   ],
   "source": [
    "cross_val_score_model(Lasso(max_iter=1000),'Lasso_best')\n",
    "cross_val_score_model(Ridge(max_iter=1000),'Ridge_best')\n",
    "cross_val_score_model(LinearRegression(n_jobs=100),'LinearRegression_best')\n",
    "cross_val_score_model(RandomForestRegressor(n_estimators=1000, max_features='sqrt', max_depth=10),'RandomForestRegressor_best')\n",
    "cross_val_score_model(XGBRegressor(n_estimators= 500, min_child_weight= 3, max_depth=15, learning_rate=0.05, booster='gbtree', base_score=0.75),'XGBRegressor_best')"
   ]
  },
  {
   "cell_type": "code",
   "execution_count": 104,
   "metadata": {
    "scrolled": true
   },
   "outputs": [
    {
     "data": {
      "image/png": "[encoded data removed]",
      "text/plain": [
       "<Figure size 432x288 with 1 Axes>"
      ]
     },
     "metadata": {
      "needs_background": "light"
     },
     "output_type": "display_data"
    }
   ],
   "source": [
    "sns.barplot(x=value,y=algo)\n",
    "plt.show()"
   ]
  },
  {
   "cell_type": "code",
   "execution_count": 105,
   "metadata": {
    "scrolled": true
   },
   "outputs": [
    {
     "data": {
      "text/html": [
       "<div>\n",
       "<style scoped>\n",
       "    .dataframe tbody tr th:only-of-type {\n",
       "        vertical-align: middle;\n",
       "    }\n",
       "\n",
       "    .dataframe tbody tr th {\n",
       "        vertical-align: top;\n",
       "    }\n",
       "\n",
       "    .dataframe thead th {\n",
       "        text-align: right;\n",
       "    }\n",
       "</style>\n",
       "<table border=\"1\" class=\"dataframe\">\n",
       "  <thead>\n",
       "    <tr style=\"text-align: right;\">\n",
       "      <th></th>\n",
       "      <th>Model</th>\n",
       "      <th>CVScore</th>\n",
       "    </tr>\n",
       "  </thead>\n",
       "  <tbody>\n",
       "    <tr>\n",
       "      <th>0</th>\n",
       "      <td>Lasso</td>\n",
       "      <td>0.731032</td>\n",
       "    </tr>\n",
       "    <tr>\n",
       "      <th>1</th>\n",
       "      <td>Ridge</td>\n",
       "      <td>0.731295</td>\n",
       "    </tr>\n",
       "    <tr>\n",
       "      <th>2</th>\n",
       "      <td>KNeighborsRegressor</td>\n",
       "      <td>0.063859</td>\n",
       "    </tr>\n",
       "    <tr>\n",
       "      <th>3</th>\n",
       "      <td>LinearRegression</td>\n",
       "      <td>0.731012</td>\n",
       "    </tr>\n",
       "    <tr>\n",
       "      <th>4</th>\n",
       "      <td>DecisionTreeRegressor</td>\n",
       "      <td>0.690588</td>\n",
       "    </tr>\n",
       "    <tr>\n",
       "      <th>5</th>\n",
       "      <td>RandomForestRegressor</td>\n",
       "      <td>0.831978</td>\n",
       "    </tr>\n",
       "    <tr>\n",
       "      <th>6</th>\n",
       "      <td>XGBRegressor</td>\n",
       "      <td>0.798943</td>\n",
       "    </tr>\n",
       "    <tr>\n",
       "      <th>7</th>\n",
       "      <td>Lasso_best</td>\n",
       "      <td>0.731032</td>\n",
       "    </tr>\n",
       "    <tr>\n",
       "      <th>8</th>\n",
       "      <td>Ridge_best</td>\n",
       "      <td>0.731295</td>\n",
       "    </tr>\n",
       "    <tr>\n",
       "      <th>9</th>\n",
       "      <td>LinearRegression_best</td>\n",
       "      <td>0.731012</td>\n",
       "    </tr>\n",
       "    <tr>\n",
       "      <th>10</th>\n",
       "      <td>RandomForestRegressor_best</td>\n",
       "      <td>0.841326</td>\n",
       "    </tr>\n",
       "    <tr>\n",
       "      <th>11</th>\n",
       "      <td>XGBRegressor_best</td>\n",
       "      <td>0.803543</td>\n",
       "    </tr>\n",
       "  </tbody>\n",
       "</table>\n",
       "</div>"
      ],
      "text/plain": [
       "                         Model   CVScore\n",
       "0                        Lasso  0.731032\n",
       "1                        Ridge  0.731295\n",
       "2          KNeighborsRegressor  0.063859\n",
       "3             LinearRegression  0.731012\n",
       "4        DecisionTreeRegressor  0.690588\n",
       "5        RandomForestRegressor  0.831978\n",
       "6                 XGBRegressor  0.798943\n",
       "7                   Lasso_best  0.731032\n",
       "8                   Ridge_best  0.731295\n",
       "9        LinearRegression_best  0.731012\n",
       "10  RandomForestRegressor_best  0.841326\n",
       "11           XGBRegressor_best  0.803543"
      ]
     },
     "execution_count": 105,
     "metadata": {},
     "output_type": "execute_result"
    }
   ],
   "source": [
    "Best1=pd.Series(algo)\n",
    "Best2=pd.Series(value)\n",
    "pd.DataFrame({'Model':Best1,'CVScore':Best2})"
   ]
  },
  {
   "cell_type": "markdown",
   "metadata": {},
   "source": [
    "# Best Model Random Forest with Hyper Parameter Tuning"
   ]
  },
  {
   "cell_type": "code",
   "execution_count": 106,
   "metadata": {},
   "outputs": [
    {
     "data": {
      "text/plain": [
       "0.8694202790502394"
      ]
     },
     "execution_count": 106,
     "metadata": {},
     "output_type": "execute_result"
    }
   ],
   "source": [
    "from sklearn import metrics\n",
    "from sklearn.metrics import r2_score\n",
    "rf=RandomForestRegressor()\n",
    "rf.fit(X_train,y_train)\n",
    "rf_y_pred=rf.predict(X_test)\n",
    "score=r2_score(y_test,rf_y_pred)\n",
    "score"
   ]
  },
  {
   "cell_type": "code",
   "execution_count": 108,
   "metadata": {},
   "outputs": [
    {
     "data": {
      "text/plain": [
       "0.87510323221212"
      ]
     },
     "execution_count": 108,
     "metadata": {},
     "output_type": "execute_result"
    }
   ],
   "source": [
    "from sklearn import metrics\n",
    "from sklearn.metrics import r2_score\n",
    "rf_best=RandomForestRegressor(n_estimators=1000, max_features='sqrt', max_depth=10)\n",
    "rf_best.fit(X_train,y_train)\n",
    "rf_best_y_pred=rf_best.predict(X_test)\n",
    "score1=r2_score(y_test,rf_best_y_pred)\n",
    "score1"
   ]
  },
  {
   "cell_type": "code",
   "execution_count": null,
   "metadata": {},
   "outputs": [],
   "source": []
  },
  {
   "cell_type": "code",
   "execution_count": 110,
   "metadata": {},
   "outputs": [
    {
     "data": {
      "text/plain": [
       "<matplotlib.axes._subplots.AxesSubplot at 0x26234dde190>"
      ]
     },
     "execution_count": 110,
     "metadata": {},
     "output_type": "execute_result"
    },
    {
     "data": {
      "image/png": "[encoded data removed]",
      "text/plain": [
       "<Figure size 720x432 with 1 Axes>"
      ]
     },
     "metadata": {
      "needs_background": "light"
     },
     "output_type": "display_data"
    }
   ],
   "source": [
    "plt.figure(figsize=(10,6))\n",
    "sns.distplot(y_test-rf_y_pred, color='r')\n",
    "sns.distplot(y_test-rf_best_y_pred,color='b')"
   ]
  },
  {
   "cell_type": "code",
   "execution_count": 111,
   "metadata": {
    "scrolled": true
   },
   "outputs": [
    {
     "data": {
      "text/plain": [
       "<matplotlib.collections.PathCollection at 0x2623e13b4f0>"
      ]
     },
     "execution_count": 111,
     "metadata": {},
     "output_type": "execute_result"
    },
    {
     "data": {
      "image/png": "[encoded data removed]",
      "text/plain": [
       "<Figure size 720x432 with 1 Axes>"
      ]
     },
     "metadata": {
      "needs_background": "light"
     },
     "output_type": "display_data"
    }
   ],
   "source": [
    "plt.figure(figsize=(10,6))\n",
    "plt.scatter(y_test,rf_best_y_pred)"
   ]
  },
  {
   "cell_type": "code",
   "execution_count": 115,
   "metadata": {},
   "outputs": [
    {
     "name": "stdout",
     "output_type": "stream",
     "text": [
      "MSE: 17941588.801975142\n",
      "RMSE: 4235.751267718058\n"
     ]
    }
   ],
   "source": [
    "print('MSE:', metrics.mean_squared_error(y_test, rf_y_pred))\n",
    "print('RMSE:', np.sqrt(metrics.mean_squared_error(y_test, rf_y_pred)))"
   ]
  },
  {
   "cell_type": "code",
   "execution_count": 114,
   "metadata": {},
   "outputs": [
    {
     "name": "stdout",
     "output_type": "stream",
     "text": [
      "MSE_Best: 17160753.86015003\n",
      "RMSE_Best: 4142.554026219819\n"
     ]
    }
   ],
   "source": [
    "print('MSE_Best:', metrics.mean_squared_error(y_test, rf_best_y_pred))\n",
    "print('RMSE_Best:', np.sqrt(metrics.mean_squared_error(y_test, rf_best_y_pred)))"
   ]
  },
  {
   "cell_type": "code",
   "execution_count": 120,
   "metadata": {},
   "outputs": [
    {
     "data": {
      "text/plain": [
       "age           28.000000\n",
       "sex            1.000000\n",
       "bmi           33.000000\n",
       "children       3.000000\n",
       "smoker         0.000000\n",
       "region         2.000000\n",
       "charges     4449.462000\n",
       "Z-Score       -0.728402\n",
       "Name: 2, dtype: float64"
      ]
     },
     "execution_count": 120,
     "metadata": {},
     "output_type": "execute_result"
    }
   ],
   "source": [
    "df.iloc[2]"
   ]
  },
  {
   "cell_type": "code",
   "execution_count": 121,
   "metadata": {},
   "outputs": [
    {
     "data": {
      "text/plain": [
       "array([5581.62255493])"
      ]
     },
     "execution_count": 121,
     "metadata": {},
     "output_type": "execute_result"
    }
   ],
   "source": [
    "a=[[28,1,33,3,0,2]]\n",
    "a=s.transform(a)\n",
    "b=rf_best.predict(a)\n",
    "b"
   ]
  },
  {
   "cell_type": "code",
   "execution_count": 156,
   "metadata": {},
   "outputs": [
    {
     "data": {
      "text/html": [
       "<div>\n",
       "<style scoped>\n",
       "    .dataframe tbody tr th:only-of-type {\n",
       "        vertical-align: middle;\n",
       "    }\n",
       "\n",
       "    .dataframe tbody tr th {\n",
       "        vertical-align: top;\n",
       "    }\n",
       "\n",
       "    .dataframe thead th {\n",
       "        text-align: right;\n",
       "    }\n",
       "</style>\n",
       "<table border=\"1\" class=\"dataframe\">\n",
       "  <thead>\n",
       "    <tr style=\"text-align: right;\">\n",
       "      <th></th>\n",
       "      <th>Actual</th>\n",
       "      <th>Predicted</th>\n",
       "    </tr>\n",
       "  </thead>\n",
       "  <tbody>\n",
       "    <tr>\n",
       "      <th>1250</th>\n",
       "      <td>18648.42170</td>\n",
       "      <td>29490.231324</td>\n",
       "    </tr>\n",
       "    <tr>\n",
       "      <th>849</th>\n",
       "      <td>10601.63225</td>\n",
       "      <td>12658.539378</td>\n",
       "    </tr>\n",
       "    <tr>\n",
       "      <th>331</th>\n",
       "      <td>24393.62240</td>\n",
       "      <td>26340.253938</td>\n",
       "    </tr>\n",
       "    <tr>\n",
       "      <th>620</th>\n",
       "      <td>3659.34600</td>\n",
       "      <td>5983.889989</td>\n",
       "    </tr>\n",
       "    <tr>\n",
       "      <th>197</th>\n",
       "      <td>8516.82900</td>\n",
       "      <td>9416.644157</td>\n",
       "    </tr>\n",
       "    <tr>\n",
       "      <th>...</th>\n",
       "      <td>...</td>\n",
       "      <td>...</td>\n",
       "    </tr>\n",
       "    <tr>\n",
       "      <th>609</th>\n",
       "      <td>39241.44200</td>\n",
       "      <td>38864.095197</td>\n",
       "    </tr>\n",
       "    <tr>\n",
       "      <th>864</th>\n",
       "      <td>8782.46900</td>\n",
       "      <td>10509.236324</td>\n",
       "    </tr>\n",
       "    <tr>\n",
       "      <th>129</th>\n",
       "      <td>6082.40500</td>\n",
       "      <td>8129.113118</td>\n",
       "    </tr>\n",
       "    <tr>\n",
       "      <th>1004</th>\n",
       "      <td>8627.54110</td>\n",
       "      <td>10071.663696</td>\n",
       "    </tr>\n",
       "    <tr>\n",
       "      <th>996</th>\n",
       "      <td>7418.52200</td>\n",
       "      <td>8749.455279</td>\n",
       "    </tr>\n",
       "  </tbody>\n",
       "</table>\n",
       "<p>333 rows × 2 columns</p>\n",
       "</div>"
      ],
      "text/plain": [
       "           Actual     Predicted\n",
       "1250  18648.42170  29490.231324\n",
       "849   10601.63225  12658.539378\n",
       "331   24393.62240  26340.253938\n",
       "620    3659.34600   5983.889989\n",
       "197    8516.82900   9416.644157\n",
       "...           ...           ...\n",
       "609   39241.44200  38864.095197\n",
       "864    8782.46900  10509.236324\n",
       "129    6082.40500   8129.113118\n",
       "1004   8627.54110  10071.663696\n",
       "996    7418.52200   8749.455279\n",
       "\n",
       "[333 rows x 2 columns]"
      ]
     },
     "execution_count": 156,
     "metadata": {},
     "output_type": "execute_result"
    }
   ],
   "source": [
    "data=pd.DataFrame({'Actual':y_test,'Predicted':rf_best_y_pred})\n",
    "data"
   ]
  },
  {
   "cell_type": "code",
   "execution_count": null,
   "metadata": {},
   "outputs": [],
   "source": []
  }
 ],
 "metadata": {
  "kernelspec": {
   "display_name": "Python 3",
   "language": "python",
   "name": "python3"
  },
  "language_info": {
   "codemirror_mode": {
    "name": "ipython",
    "version": 3
   },
   "file_extension": ".py",
   "mimetype": "text/x-python",
   "name": "python",
   "nbconvert_exporter": "python",
   "pygments_lexer": "ipython3",
   "version": "3.8.3"
  }
 },
 "nbformat": 4,
 "nbformat_minor": 4
}
